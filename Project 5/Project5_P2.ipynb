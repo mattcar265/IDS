{
  "nbformat": 4,
  "nbformat_minor": 0,
  "metadata": {
    "colab": {
      "name": "Copy of Project5_P2.ipynb",
      "provenance": [],
      "collapsed_sections": []
    },
    "kernelspec": {
      "name": "python3",
      "display_name": "Python 3"
    },
    "language_info": {
      "name": "python"
    }
  },
  "cells": [
    {
      "cell_type": "code",
      "source": [
        "# Matt Caraher\n",
        "# 4/5/2022\n",
        "# Project 5 P1\n"
      ],
      "metadata": {
        "id": "Ehbd-LPj5fwL"
      },
      "execution_count": 23,
      "outputs": []
    },
    {
      "cell_type": "code",
      "source": [
        "import pandas as pd\n",
        "import numpy as np\n",
        "\n",
        "wineDF = pd.read_csv(\"https://raw.githubusercontent.com/mattcar265/IDS/main/Project%205/WineFlagAll.csv\")\n",
        "\n",
        "wineDF\n"
      ],
      "metadata": {
        "colab": {
          "base_uri": "https://localhost:8080/",
          "height": 423
        },
        "id": "3HAXnbE2n6bn",
        "outputId": "ebd78f74-b45a-4c9f-bf76-bb0ddaa55009"
      },
      "execution_count": 24,
      "outputs": [
        {
          "output_type": "execute_result",
          "data": {
            "text/plain": [
              "       Type AlcoholFlag SugarFlag\n",
              "0       Red        High      High\n",
              "1       Red        High       Low\n",
              "2       Red         Low      High\n",
              "3       Red        High       Low\n",
              "4       Red         Low       Low\n",
              "...     ...         ...       ...\n",
              "3340  White        High      High\n",
              "3341  White        High       Low\n",
              "3342  White        High       Low\n",
              "3343  White        High       Low\n",
              "3344  White        High       Low\n",
              "\n",
              "[3345 rows x 3 columns]"
            ],
            "text/html": [
              "\n",
              "  <div id=\"df-9bb11f5f-210a-4bde-a1e4-164ae2a23c87\">\n",
              "    <div class=\"colab-df-container\">\n",
              "      <div>\n",
              "<style scoped>\n",
              "    .dataframe tbody tr th:only-of-type {\n",
              "        vertical-align: middle;\n",
              "    }\n",
              "\n",
              "    .dataframe tbody tr th {\n",
              "        vertical-align: top;\n",
              "    }\n",
              "\n",
              "    .dataframe thead th {\n",
              "        text-align: right;\n",
              "    }\n",
              "</style>\n",
              "<table border=\"1\" class=\"dataframe\">\n",
              "  <thead>\n",
              "    <tr style=\"text-align: right;\">\n",
              "      <th></th>\n",
              "      <th>Type</th>\n",
              "      <th>AlcoholFlag</th>\n",
              "      <th>SugarFlag</th>\n",
              "    </tr>\n",
              "  </thead>\n",
              "  <tbody>\n",
              "    <tr>\n",
              "      <th>0</th>\n",
              "      <td>Red</td>\n",
              "      <td>High</td>\n",
              "      <td>High</td>\n",
              "    </tr>\n",
              "    <tr>\n",
              "      <th>1</th>\n",
              "      <td>Red</td>\n",
              "      <td>High</td>\n",
              "      <td>Low</td>\n",
              "    </tr>\n",
              "    <tr>\n",
              "      <th>2</th>\n",
              "      <td>Red</td>\n",
              "      <td>Low</td>\n",
              "      <td>High</td>\n",
              "    </tr>\n",
              "    <tr>\n",
              "      <th>3</th>\n",
              "      <td>Red</td>\n",
              "      <td>High</td>\n",
              "      <td>Low</td>\n",
              "    </tr>\n",
              "    <tr>\n",
              "      <th>4</th>\n",
              "      <td>Red</td>\n",
              "      <td>Low</td>\n",
              "      <td>Low</td>\n",
              "    </tr>\n",
              "    <tr>\n",
              "      <th>...</th>\n",
              "      <td>...</td>\n",
              "      <td>...</td>\n",
              "      <td>...</td>\n",
              "    </tr>\n",
              "    <tr>\n",
              "      <th>3340</th>\n",
              "      <td>White</td>\n",
              "      <td>High</td>\n",
              "      <td>High</td>\n",
              "    </tr>\n",
              "    <tr>\n",
              "      <th>3341</th>\n",
              "      <td>White</td>\n",
              "      <td>High</td>\n",
              "      <td>Low</td>\n",
              "    </tr>\n",
              "    <tr>\n",
              "      <th>3342</th>\n",
              "      <td>White</td>\n",
              "      <td>High</td>\n",
              "      <td>Low</td>\n",
              "    </tr>\n",
              "    <tr>\n",
              "      <th>3343</th>\n",
              "      <td>White</td>\n",
              "      <td>High</td>\n",
              "      <td>Low</td>\n",
              "    </tr>\n",
              "    <tr>\n",
              "      <th>3344</th>\n",
              "      <td>White</td>\n",
              "      <td>High</td>\n",
              "      <td>Low</td>\n",
              "    </tr>\n",
              "  </tbody>\n",
              "</table>\n",
              "<p>3345 rows × 3 columns</p>\n",
              "</div>\n",
              "      <button class=\"colab-df-convert\" onclick=\"convertToInteractive('df-9bb11f5f-210a-4bde-a1e4-164ae2a23c87')\"\n",
              "              title=\"Convert this dataframe to an interactive table.\"\n",
              "              style=\"display:none;\">\n",
              "        \n",
              "  <svg xmlns=\"http://www.w3.org/2000/svg\" height=\"24px\"viewBox=\"0 0 24 24\"\n",
              "       width=\"24px\">\n",
              "    <path d=\"M0 0h24v24H0V0z\" fill=\"none\"/>\n",
              "    <path d=\"M18.56 5.44l.94 2.06.94-2.06 2.06-.94-2.06-.94-.94-2.06-.94 2.06-2.06.94zm-11 1L8.5 8.5l.94-2.06 2.06-.94-2.06-.94L8.5 2.5l-.94 2.06-2.06.94zm10 10l.94 2.06.94-2.06 2.06-.94-2.06-.94-.94-2.06-.94 2.06-2.06.94z\"/><path d=\"M17.41 7.96l-1.37-1.37c-.4-.4-.92-.59-1.43-.59-.52 0-1.04.2-1.43.59L10.3 9.45l-7.72 7.72c-.78.78-.78 2.05 0 2.83L4 21.41c.39.39.9.59 1.41.59.51 0 1.02-.2 1.41-.59l7.78-7.78 2.81-2.81c.8-.78.8-2.07 0-2.86zM5.41 20L4 18.59l7.72-7.72 1.47 1.35L5.41 20z\"/>\n",
              "  </svg>\n",
              "      </button>\n",
              "      \n",
              "  <style>\n",
              "    .colab-df-container {\n",
              "      display:flex;\n",
              "      flex-wrap:wrap;\n",
              "      gap: 12px;\n",
              "    }\n",
              "\n",
              "    .colab-df-convert {\n",
              "      background-color: #E8F0FE;\n",
              "      border: none;\n",
              "      border-radius: 50%;\n",
              "      cursor: pointer;\n",
              "      display: none;\n",
              "      fill: #1967D2;\n",
              "      height: 32px;\n",
              "      padding: 0 0 0 0;\n",
              "      width: 32px;\n",
              "    }\n",
              "\n",
              "    .colab-df-convert:hover {\n",
              "      background-color: #E2EBFA;\n",
              "      box-shadow: 0px 1px 2px rgba(60, 64, 67, 0.3), 0px 1px 3px 1px rgba(60, 64, 67, 0.15);\n",
              "      fill: #174EA6;\n",
              "    }\n",
              "\n",
              "    [theme=dark] .colab-df-convert {\n",
              "      background-color: #3B4455;\n",
              "      fill: #D2E3FC;\n",
              "    }\n",
              "\n",
              "    [theme=dark] .colab-df-convert:hover {\n",
              "      background-color: #434B5C;\n",
              "      box-shadow: 0px 1px 3px 1px rgba(0, 0, 0, 0.15);\n",
              "      filter: drop-shadow(0px 1px 2px rgba(0, 0, 0, 0.3));\n",
              "      fill: #FFFFFF;\n",
              "    }\n",
              "  </style>\n",
              "\n",
              "      <script>\n",
              "        const buttonEl =\n",
              "          document.querySelector('#df-9bb11f5f-210a-4bde-a1e4-164ae2a23c87 button.colab-df-convert');\n",
              "        buttonEl.style.display =\n",
              "          google.colab.kernel.accessAllowed ? 'block' : 'none';\n",
              "\n",
              "        async function convertToInteractive(key) {\n",
              "          const element = document.querySelector('#df-9bb11f5f-210a-4bde-a1e4-164ae2a23c87');\n",
              "          const dataTable =\n",
              "            await google.colab.kernel.invokeFunction('convertToInteractive',\n",
              "                                                     [key], {});\n",
              "          if (!dataTable) return;\n",
              "\n",
              "          const docLinkHtml = 'Like what you see? Visit the ' +\n",
              "            '<a target=\"_blank\" href=https://colab.research.google.com/notebooks/data_table.ipynb>data table notebook</a>'\n",
              "            + ' to learn more about interactive tables.';\n",
              "          element.innerHTML = '';\n",
              "          dataTable['output_type'] = 'display_data';\n",
              "          await google.colab.output.renderOutput(dataTable, element);\n",
              "          const docLink = document.createElement('div');\n",
              "          docLink.innerHTML = docLinkHtml;\n",
              "          element.appendChild(docLink);\n",
              "        }\n",
              "      </script>\n",
              "    </div>\n",
              "  </div>\n",
              "  "
            ]
          },
          "metadata": {},
          "execution_count": 24
        }
      ]
    },
    {
      "cell_type": "code",
      "source": [
        "# Check for any null values\n",
        "\n",
        "wineDF.isnull().sum()\n"
      ],
      "metadata": {
        "colab": {
          "base_uri": "https://localhost:8080/"
        },
        "id": "Yy0TuR7p6rqI",
        "outputId": "68125238-e020-42de-b731-604951b36168"
      },
      "execution_count": 25,
      "outputs": [
        {
          "output_type": "execute_result",
          "data": {
            "text/plain": [
              "Type           0\n",
              "AlcoholFlag    0\n",
              "SugarFlag      0\n",
              "dtype: int64"
            ]
          },
          "metadata": {},
          "execution_count": 25
        }
      ]
    },
    {
      "cell_type": "code",
      "source": [
        "# Creating labelEncoder\n",
        "from sklearn import preprocessing\n",
        "le = preprocessing.LabelEncoder()\n",
        "\n",
        "# Change order of columns to put target at the end\n",
        "wineDF = wineDF[['AlcoholFlag', 'SugarFlag', 'Type']]\n",
        "\n",
        "# save the encoded dataframe here\n",
        "encoded_wineDF = pd.DataFrame()\n",
        "\n",
        "# Encode  only the categoric or boolean attributes\n",
        "for i in range(0, wineDF.shape[1]):\n",
        "    if wineDF.dtypes[i]=='object' or wineDF.dtypes[i]=='bool':\n",
        "        encoded_wineDF[wineDF.columns[i]] = le.fit_transform(wineDF[wineDF.columns[i]])\n",
        "\n",
        "# Converting string attributes into numbers\n",
        "alcohol_encoded=le.fit_transform(wineDF['AlcoholFlag'])\n",
        "sugar_encoded=le.fit_transform(wineDF['SugarFlag'])\n",
        "\n",
        "# convert the taget now\n",
        "labels = le.fit_transform(wineDF['Type'])\n",
        "\n",
        "# Combining all features\n",
        "features = list(zip(alcohol_encoded, sugar_encoded))\n",
        "\n",
        "print(wineDF, \"\\n\", pd.DataFrame(features))\n",
        "\n",
        "print(\"\\n\\n\")\n",
        "\n",
        "print(labels)\n",
        "\n",
        "\n"
      ],
      "metadata": {
        "colab": {
          "base_uri": "https://localhost:8080/"
        },
        "id": "WdVki-8O7ntZ",
        "outputId": "7f02a5d0-147d-40a6-f8a9-2ae3fc1035f8"
      },
      "execution_count": 27,
      "outputs": [
        {
          "output_type": "stream",
          "name": "stdout",
          "text": [
            "     AlcoholFlag SugarFlag   Type\n",
            "0           High      High    Red\n",
            "1           High       Low    Red\n",
            "2            Low      High    Red\n",
            "3           High       Low    Red\n",
            "4            Low       Low    Red\n",
            "...          ...       ...    ...\n",
            "3340        High      High  White\n",
            "3341        High       Low  White\n",
            "3342        High       Low  White\n",
            "3343        High       Low  White\n",
            "3344        High       Low  White\n",
            "\n",
            "[3345 rows x 3 columns] \n",
            "       0  1\n",
            "0     0  0\n",
            "1     0  1\n",
            "2     1  0\n",
            "3     0  1\n",
            "4     1  1\n",
            "...  .. ..\n",
            "3340  0  0\n",
            "3341  0  1\n",
            "3342  0  1\n",
            "3343  0  1\n",
            "3344  0  1\n",
            "\n",
            "[3345 rows x 2 columns]\n",
            "\n",
            "\n",
            "\n",
            "[0 0 0 ... 1 1 1]\n"
          ]
        }
      ]
    },
    {
      "cell_type": "code",
      "source": [
        "# Create contingency table for Type vs. alcohol content\n",
        "\n",
        "crosstab1 = pd.crosstab(wineDF.Type, wineDF.AlcoholFlag)\n",
        "\n",
        "print(crosstab1)\n"
      ],
      "metadata": {
        "colab": {
          "base_uri": "https://localhost:8080/"
        },
        "id": "z6SSu0sp8QG2",
        "outputId": "70e5f134-a0d1-4b75-b0eb-daf61af09e6c"
      },
      "execution_count": null,
      "outputs": [
        {
          "output_type": "stream",
          "name": "stdout",
          "text": [
            "AlcoholFlag  High   Low\n",
            "Type                   \n",
            "Red           485   600\n",
            "White        1176  1084\n"
          ]
        }
      ]
    },
    {
      "cell_type": "code",
      "source": [
        "# Create contingency table for Type vs. sugar content\n",
        "\n",
        "crosstab2 = pd.crosstab(wineDF.Type, wineDF.SugarFlag)\n",
        "\n",
        "print(crosstab2)\n"
      ],
      "metadata": {
        "colab": {
          "base_uri": "https://localhost:8080/"
        },
        "id": "XNmc87nQ9RHD",
        "outputId": "bbbb0964-70a7-4e2d-90d0-b2e621735d0d"
      },
      "execution_count": null,
      "outputs": [
        {
          "output_type": "stream",
          "name": "stdout",
          "text": [
            "SugarFlag  High  Low\n",
            "Type                \n",
            "Red         237  848\n",
            "White      1382  878\n"
          ]
        }
      ]
    },
    {
      "cell_type": "code",
      "source": [
        "# Plotted contingency table for Type vs. alcohol content\n",
        "\n",
        "barplot = crosstab1.plot.bar(rot=0)\n"
      ],
      "metadata": {
        "colab": {
          "base_uri": "https://localhost:8080/",
          "height": 279
        },
        "id": "7CSeBefT9kmc",
        "outputId": "35593762-08b6-4b62-e280-945d6c0999af"
      },
      "execution_count": null,
      "outputs": [
        {
          "output_type": "display_data",
          "data": {
            "text/plain": [
              "<Figure size 432x288 with 1 Axes>"
            ],
            "image/png": "[encoded data removed]"
          },
          "metadata": {
            "needs_background": "light"
          }
        }
      ]
    },
    {
      "cell_type": "code",
      "source": [
        "# Plotted contingency table for Type vs. sugar content\n",
        "\n",
        "barplot = crosstab2.plot.bar(rot=0)\n"
      ],
      "metadata": {
        "colab": {
          "base_uri": "https://localhost:8080/",
          "height": 279
        },
        "id": "GlBuA3Xa-FpF",
        "outputId": "a9ae90b8-3e6b-4a53-a950-9ae4a8c30c8a"
      },
      "execution_count": null,
      "outputs": [
        {
          "output_type": "display_data",
          "data": {
            "text/plain": [
              "<Figure size 432x288 with 1 Axes>"
            ],
            "image/png": "[encoded data removed]"
          },
          "metadata": {
            "needs_background": "light"
          }
        }
      ]
    },
    {
      "cell_type": "code",
      "source": [
        "# The prior probability of Type = Red and Type = White\n",
        "# P(Red) = 1085 / 3345\n",
        "# P(White) = 2260 / 3345\n",
        "\n",
        "# The probability of high and low alcohol content\n",
        "# P(High) = 1661 / 3345\n",
        "# P(Low) = 1684 / 3345\n",
        "\n",
        "# The probability of high and low sugar content\n",
        "# P(High) = 1619 / 3345\n",
        "# P(Low) = 1726 / 3345\n",
        "\n",
        "# The conditional probabilities p(Alcohol_flag = High ∣ Type = Red) and p(Alcohol_flag = Low ∣ Type = Red)\n",
        "# P(AlcoholFlag = High | Type = Red) = 485 / 1085\n",
        "# P(AlcoholFlag = Low | Type = Red) = 600 / 1085\n",
        "\n",
        "# The conditional probabilities p(Sugar_flag = High ∣ Type = Red) and p(Sugar_flag = Low ∣ Type = Red)\n",
        "# P(SugarFlag = High | Type = Red) = 237 / 1085\n",
        "# P(SugarFlag = Low | Type = Red) = 848 / 1085"
      ],
      "metadata": {
        "id": "PymwUcfw-zw1"
      },
      "execution_count": null,
      "outputs": []
    },
    {
      "cell_type": "code",
      "source": [
        "encoded_wineDF.size"
      ],
      "metadata": {
        "colab": {
          "base_uri": "https://localhost:8080/"
        },
        "id": "nIT86OWQG1i-",
        "outputId": "0b2da0e7-b859-480b-d351-f5388a69ec35"
      },
      "execution_count": null,
      "outputs": [
        {
          "output_type": "execute_result",
          "data": {
            "text/plain": [
              "0"
            ]
          },
          "metadata": {},
          "execution_count": 16
        }
      ]
    },
    {
      "cell_type": "code",
      "source": [
        "# Generating the Gaussian Naive Bayes model\n",
        "from sklearn.naive_bayes import GaussianNB\n",
        "from sklearn.model_selection import train_test_split\n",
        "\n",
        "#Create a Gaussian Classifier\n",
        "NBmodel = GaussianNB()\n",
        "\n",
        "# Train the model using training set for approach #1\n",
        "# NBmodel.fit(features, labels) \n",
        "\n",
        "# Prepare input and output for learning\n",
        "X = encoded_wineDF.iloc[:,0:2]\n",
        "y = encoded_wineDF.iloc[:,2]\n",
        "\n",
        "# In order to have the same proportion of 0 and 1 classes in a dataset to train, use 'stratify'\n",
        "X_train, X_test, y_train, y_test = \\\n",
        "    train_test_split(X, y, random_state=16, shuffle=True, test_size=0.90, stratify=y)\n",
        "\n",
        "# Display the sets\n",
        "print(X_train)\n",
        "print(X_test)\n"
      ],
      "metadata": {
        "colab": {
          "base_uri": "https://localhost:8080/"
        },
        "id": "9MjTgj9cB8wP",
        "outputId": "a019d242-2f10-4b35-9501-77d1566f1f70"
      },
      "execution_count": 46,
      "outputs": [
        {
          "output_type": "stream",
          "name": "stdout",
          "text": [
            "      AlcoholFlag  SugarFlag\n",
            "2100            1          0\n",
            "2772            0          0\n",
            "2326            1          1\n",
            "1066            1          1\n",
            "1820            1          0\n",
            "...           ...        ...\n",
            "1929            1          0\n",
            "2141            1          0\n",
            "2870            0          0\n",
            "1673            1          0\n",
            "1535            0          0\n",
            "\n",
            "[334 rows x 2 columns]\n",
            "      AlcoholFlag  SugarFlag\n",
            "1460            0          0\n",
            "1898            1          0\n",
            "77              0          1\n",
            "2631            0          1\n",
            "2283            1          0\n",
            "...           ...        ...\n",
            "732             0          1\n",
            "3073            0          0\n",
            "514             1          0\n",
            "1700            1          0\n",
            "295             1          0\n",
            "\n",
            "[3011 rows x 2 columns]\n"
          ]
        }
      ]
    },
    {
      "cell_type": "code",
      "source": [
        "# 80-20\n",
        "\n",
        "# In order to have the same proportion of 0 and 1 classes in a dataset to train, use 'stratify'\n",
        "X_train, X_test, y_train, y_test = \\\n",
        "    train_test_split(X, y, random_state=100, shuffle=True, test_size=0.20, stratify=y)\n",
        "\n",
        "# Check accuracy\n",
        "import matplotlib.pyplot as plt\n",
        "\n",
        "#Create a Gaussian Classifier\n",
        "NBmodel1 = GaussianNB()\n",
        "\n",
        "# Train the model \n",
        "NBmodel1.fit(X_train, y_train)\n",
        "\n",
        "# Calculate model accuracy on both training and test data\n",
        "labels = [\"Training\", \"Test\"]\n",
        "scores1 = [NBmodel1.score(X_train, y_train), NBmodel1.score(X_test, y_test)]\n",
        "\n",
        "\n",
        "# Plot the accuracy \n",
        "fig = plt.figure()\n",
        "ax = fig.add_axes([0,0,1,1])\n",
        "ax.set_title('Model Classification Accuracy on Training vs. Test Data')\n",
        "ax.bar(labels, scores1, color=\"orange\")\n",
        "ax.set_ylim(0, 1)\n",
        "plt.show()\n",
        "\n"
      ],
      "metadata": {
        "colab": {
          "base_uri": "https://localhost:8080/",
          "height": 352
        },
        "id": "i-6d7AhjN1NC",
        "outputId": "7bcae176-44b0-42cd-f800-91665865c6f0"
      },
      "execution_count": 65,
      "outputs": [
        {
          "output_type": "display_data",
          "data": {
            "text/plain": [
              "<Figure size 432x288 with 1 Axes>"
            ],
            "image/png": "[encoded data removed]"
          },
          "metadata": {
            "needs_background": "light"
          }
        }
      ]
    },
    {
      "cell_type": "code",
      "source": [
        "# 75-25\n",
        "\n",
        "# In order to have the same proportion of 0 and 1 classes in a dataset to train, use 'stratify'\n",
        "X_train, X_test, y_train, y_test = \\\n",
        "    train_test_split(X, y, random_state=100, shuffle=True, test_size=0.25, stratify=y)\n",
        "\n",
        "# Check accuracy\n",
        "import matplotlib.pyplot as plt\n",
        "\n",
        "#Create a Gaussian Classifier\n",
        "NBmodel2 = GaussianNB()\n",
        "\n",
        "# Train the model \n",
        "NBmodel2.fit(X_train, y_train)\n",
        "\n",
        "# Calculate model accuracy on both training and test data\n",
        "labels = [\"Training\", \"Test\"]\n",
        "scores2 = [NBmodel2.score(X_train, y_train), NBmodel2.score(X_test, y_test)]\n",
        "\n",
        "\n",
        "# Plot the accuracy \n",
        "fig = plt.figure()\n",
        "ax = fig.add_axes([0,0,1,1])\n",
        "ax.set_title('Model Classification Accuracy on Training vs. Test Data')\n",
        "ax.bar(labels, scores2, color=\"orange\")\n",
        "ax.set_ylim(0, 1)\n",
        "plt.show()\n"
      ],
      "metadata": {
        "colab": {
          "base_uri": "https://localhost:8080/",
          "height": 352
        },
        "id": "N7BaV_LMQ8h1",
        "outputId": "2de14385-cf34-4aa2-aa36-ba86f7baef51"
      },
      "execution_count": 57,
      "outputs": [
        {
          "output_type": "display_data",
          "data": {
            "text/plain": [
              "<Figure size 432x288 with 1 Axes>"
            ],
            "image/png": "[encoded data removed]"
          },
          "metadata": {
            "needs_background": "light"
          }
        }
      ]
    },
    {
      "cell_type": "code",
      "source": [
        "# 70-30\n",
        "\n",
        "# In order to have the same proportion of 0 and 1 classes in a dataset to train, use 'stratify'\n",
        "X_train, X_test, y_train, y_test = \\\n",
        "    train_test_split(X, y, random_state=100, shuffle=True, test_size=0.30, stratify=y)\n",
        "\n",
        "# Check accuracy\n",
        "import matplotlib.pyplot as plt\n",
        "\n",
        "#Create a Gaussian Classifier\n",
        "NBmodel3 = GaussianNB()\n",
        "\n",
        "# Train the model \n",
        "NBmodel3.fit(X_train, y_train)\n",
        "\n",
        "# Calculate model accuracy on both training and test data\n",
        "labels = [\"Training\", \"Test\"]\n",
        "scores3 = [NBmodel3.score(X_train, y_train), NBmodel3.score(X_test, y_test)]\n",
        "\n",
        "\n",
        "# Plot the accuracy \n",
        "fig = plt.figure()\n",
        "ax = fig.add_axes([0,0,1,1])\n",
        "ax.set_title('Model Classification Accuracy on Training vs. Test Data')\n",
        "ax.bar(labels, scores3, color=\"orange\")\n",
        "ax.set_ylim(0, 1)\n",
        "plt.show()\n"
      ],
      "metadata": {
        "colab": {
          "base_uri": "https://localhost:8080/",
          "height": 352
        },
        "id": "T1TaK-1FRNUU",
        "outputId": "c75229b6-3123-4e31-f953-f439399da632"
      },
      "execution_count": 59,
      "outputs": [
        {
          "output_type": "display_data",
          "data": {
            "text/plain": [
              "<Figure size 432x288 with 1 Axes>"
            ],
            "image/png": "[encoded data removed]"
          },
          "metadata": {
            "needs_background": "light"
          }
        }
      ]
    },
    {
      "cell_type": "code",
      "source": [
        "# 60-40\n",
        "\n",
        "# In order to have the same proportion of 0 and 1 classes in a dataset to train, use 'stratify'\n",
        "X_train, X_test, y_train, y_test = \\\n",
        "    train_test_split(X, y, random_state=100, shuffle=True, test_size=0.40, stratify=y)\n",
        "\n",
        "# Check accuracy\n",
        "import matplotlib.pyplot as plt\n",
        "\n",
        "#Create a Gaussian Classifier\n",
        "NBmodel4 = GaussianNB()\n",
        "\n",
        "# Train the model \n",
        "NBmodel4.fit(X_train, y_train)\n",
        "\n",
        "# Calculate model accuracy on both training and test data\n",
        "labels = [\"Training\", \"Test\"]\n",
        "scores4 = [NBmodel4.score(X_train, y_train), NBmodel4.score(X_test, y_test)]\n",
        "\n",
        "\n",
        "# Plot the accuracy \n",
        "fig = plt.figure()\n",
        "ax = fig.add_axes([0,0,1,1])\n",
        "ax.set_title('Model Classification Accuracy on Training vs. Test Data')\n",
        "ax.bar(labels, scores4, color=\"orange\")\n",
        "ax.set_ylim(0, 1)\n",
        "plt.show()\n"
      ],
      "metadata": {
        "colab": {
          "base_uri": "https://localhost:8080/",
          "height": 352
        },
        "id": "IaGOnWG5RWFJ",
        "outputId": "23641864-377a-4784-b085-497f96f3c32e"
      },
      "execution_count": 60,
      "outputs": [
        {
          "output_type": "display_data",
          "data": {
            "text/plain": [
              "<Figure size 432x288 with 1 Axes>"
            ],
            "image/png": "[encoded data removed]"
          },
          "metadata": {
            "needs_background": "light"
          }
        }
      ]
    },
    {
      "cell_type": "code",
      "source": [
        "# 50-50\n",
        "\n",
        "# In order to have the same proportion of 0 and 1 classes in a dataset to train, use 'stratify'\n",
        "X_train, X_test, y_train, y_test = \\\n",
        "    train_test_split(X, y, random_state=100, shuffle=True, test_size=0.50, stratify=y)\n",
        "\n",
        "# Check accuracy\n",
        "import matplotlib.pyplot as plt\n",
        "\n",
        "#Create a Gaussian Classifier\n",
        "NBmodel5 = GaussianNB()\n",
        "\n",
        "# Train the model \n",
        "NBmodel5.fit(X_train, y_train)\n",
        "\n",
        "# Calculate model accuracy on both training and test data\n",
        "labels = [\"Training\", \"Test\"]\n",
        "scores5 = [NBmodel5.score(X_train, y_train), NBmodel5.score(X_test, y_test)]\n",
        "\n",
        "\n",
        "# Plot the accuracy \n",
        "fig = plt.figure()\n",
        "ax = fig.add_axes([0,0,1,1])\n",
        "ax.set_title('Model Classification Accuracy on Training vs. Test Data')\n",
        "ax.bar(labels, scores5, color=\"orange\")\n",
        "ax.set_ylim(0, 1)\n",
        "plt.show()\n"
      ],
      "metadata": {
        "colab": {
          "base_uri": "https://localhost:8080/",
          "height": 352
        },
        "id": "lIjMbauvRor7",
        "outputId": "125413d0-dd9c-42bf-a425-64c9d374851a"
      },
      "execution_count": 61,
      "outputs": [
        {
          "output_type": "display_data",
          "data": {
            "text/plain": [
              "<Figure size 432x288 with 1 Axes>"
            ],
            "image/png": "[encoded data removed]"
          },
          "metadata": {
            "needs_background": "light"
          }
        }
      ]
    },
    {
      "cell_type": "code",
      "source": [
        "# Summary of scores\n",
        "\n",
        "print(\"80-20\")\n",
        "print(\"Training: \", scores1[0])\n",
        "print(\"Test: \", scores1[1])\n",
        "print()\n",
        "print(\"75-25\")\n",
        "print(\"Training: \", scores2[0])\n",
        "print(\"Test: \", scores2[1])\n",
        "print()\n",
        "print(\"70-30\")\n",
        "print(\"Training: \", scores3[0])\n",
        "print(\"Test: \", scores3[1])\n",
        "print()\n",
        "print(\"60-40\")\n",
        "print(\"Training: \", scores4[0])\n",
        "print(\"Test: \", scores4[1])\n",
        "print()\n",
        "print(\"50-50\")\n",
        "print(\"Training: \", scores5[0])\n",
        "print(\"Test: \", scores5[1])"
      ],
      "metadata": {
        "colab": {
          "base_uri": "https://localhost:8080/"
        },
        "id": "f1pIEf7BRzsh",
        "outputId": "8a90f479-953d-4842-e9ff-78b3531321dc"
      },
      "execution_count": 73,
      "outputs": [
        {
          "output_type": "stream",
          "name": "stdout",
          "text": [
            "80-20\n",
            "Training:  0.6704035874439462\n",
            "Test:  0.6517189835575485\n",
            "\n",
            "75-25\n",
            "Training:  0.6718500797448166\n",
            "Test:  0.6511350059737157\n",
            "\n",
            "70-30\n",
            "Training:  0.6693720632208457\n",
            "Test:  0.6603585657370518\n",
            "\n",
            "60-40\n",
            "Training:  0.7309417040358744\n",
            "Test:  0.7324364723467862\n",
            "\n",
            "50-50\n",
            "Training:  0.7278708133971292\n",
            "Test:  0.7352062163777645\n"
          ]
        }
      ]
    }
  ]
}
