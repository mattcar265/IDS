{
  "nbformat": 4,
  "nbformat_minor": 0,
  "metadata": {
    "colab": {
      "name": "Project4_P2.ipynb",
      "provenance": [],
      "collapsed_sections": []
    },
    "kernelspec": {
      "name": "python3",
      "display_name": "Python 3"
    },
    "language_info": {
      "name": "python"
    }
  },
  "cells": [
    {
      "cell_type": "code",
      "execution_count": 49,
      "metadata": {
        "id": "uwb55a4Prlnn"
      },
      "outputs": [],
      "source": [
        "# Start rmagic to mix Python and R code sells\n",
        "%load_ext rpy2.ipython\n"
      ]
    },
    {
      "cell_type": "code",
      "source": [
        "import pandas as pd\n",
        "\n",
        "# Read in nutrition data from my Github to nutritionDF\n",
        "# I changed some attributes such as \"marital-status\" to \"maritalstatus\"\n",
        "# because hyphen's are reserved for subtraction in Python\n",
        "nutritionDF  = pd.read_csv(\"https://raw.githubusercontent.com/mattcar265/IDS/main/Project%204/nutrition_subset.csv\");\n",
        "\n",
        "nutritionDF"
      ],
      "metadata": {
        "colab": {
          "base_uri": "https://localhost:8080/",
          "height": 502
        },
        "id": "ptRD0hf1R6m3",
        "outputId": "86c61f73-2cb2-45ef-ea3e-c5553ef475c8"
      },
      "execution_count": 1,
      "outputs": [
        {
          "output_type": "execute_result",
          "data": {
            "text/plain": [
              "                                   fooditem  weightingrams  saturatedfat  \\\n",
              "0    GELATIN; DRY                  1 ENVELP           7.00           0.0   \n",
              "1    SEAWEED; SPIRULINA; DRIED     1 OZ              28.35           0.8   \n",
              "2    YEAST; BAKERS; DRY; ACTIVE    1 PKG              7.00           0.0   \n",
              "3    PARMESAN CHEESE; GRATED       1 OZ              28.35           5.4   \n",
              "4    PARMESAN CHEESE; GRATED       1 CUP            100.00          19.1   \n",
              "..                                      ...            ...           ...   \n",
              "956  COFFEE; BREWED                6 FL OZ          180.00           0.0   \n",
              "957  TEA; BREWED                   8 FL OZ          240.00           0.0   \n",
              "958  TEA; INSTANT;PREPRD;UNSWEETEND8 FL OZ          241.00           0.0   \n",
              "959  LETTUCE; BUTTERHEAD; RAW;LEAVE1 LEAF            15.00           0.0   \n",
              "960  SALT                          1 TSP              5.50           0.0   \n",
              "\n",
              "     cholesterol  \n",
              "0              0  \n",
              "1              0  \n",
              "2              0  \n",
              "3             22  \n",
              "4             79  \n",
              "..           ...  \n",
              "956            0  \n",
              "957            0  \n",
              "958            0  \n",
              "959            0  \n",
              "960            0  \n",
              "\n",
              "[961 rows x 4 columns]"
            ],
            "text/html": [
              "\n",
              "  <div id=\"df-757f122f-29fa-4ed0-bd40-9b4add0a9997\">\n",
              "    <div class=\"colab-df-container\">\n",
              "      <div>\n",
              "<style scoped>\n",
              "    .dataframe tbody tr th:only-of-type {\n",
              "        vertical-align: middle;\n",
              "    }\n",
              "\n",
              "    .dataframe tbody tr th {\n",
              "        vertical-align: top;\n",
              "    }\n",
              "\n",
              "    .dataframe thead th {\n",
              "        text-align: right;\n",
              "    }\n",
              "</style>\n",
              "<table border=\"1\" class=\"dataframe\">\n",
              "  <thead>\n",
              "    <tr style=\"text-align: right;\">\n",
              "      <th></th>\n",
              "      <th>fooditem</th>\n",
              "      <th>weightingrams</th>\n",
              "      <th>saturatedfat</th>\n",
              "      <th>cholesterol</th>\n",
              "    </tr>\n",
              "  </thead>\n",
              "  <tbody>\n",
              "    <tr>\n",
              "      <th>0</th>\n",
              "      <td>GELATIN; DRY                  1 ENVELP</td>\n",
              "      <td>7.00</td>\n",
              "      <td>0.0</td>\n",
              "      <td>0</td>\n",
              "    </tr>\n",
              "    <tr>\n",
              "      <th>1</th>\n",
              "      <td>SEAWEED; SPIRULINA; DRIED     1 OZ</td>\n",
              "      <td>28.35</td>\n",
              "      <td>0.8</td>\n",
              "      <td>0</td>\n",
              "    </tr>\n",
              "    <tr>\n",
              "      <th>2</th>\n",
              "      <td>YEAST; BAKERS; DRY; ACTIVE    1 PKG</td>\n",
              "      <td>7.00</td>\n",
              "      <td>0.0</td>\n",
              "      <td>0</td>\n",
              "    </tr>\n",
              "    <tr>\n",
              "      <th>3</th>\n",
              "      <td>PARMESAN CHEESE; GRATED       1 OZ</td>\n",
              "      <td>28.35</td>\n",
              "      <td>5.4</td>\n",
              "      <td>22</td>\n",
              "    </tr>\n",
              "    <tr>\n",
              "      <th>4</th>\n",
              "      <td>PARMESAN CHEESE; GRATED       1 CUP</td>\n",
              "      <td>100.00</td>\n",
              "      <td>19.1</td>\n",
              "      <td>79</td>\n",
              "    </tr>\n",
              "    <tr>\n",
              "      <th>...</th>\n",
              "      <td>...</td>\n",
              "      <td>...</td>\n",
              "      <td>...</td>\n",
              "      <td>...</td>\n",
              "    </tr>\n",
              "    <tr>\n",
              "      <th>956</th>\n",
              "      <td>COFFEE; BREWED                6 FL OZ</td>\n",
              "      <td>180.00</td>\n",
              "      <td>0.0</td>\n",
              "      <td>0</td>\n",
              "    </tr>\n",
              "    <tr>\n",
              "      <th>957</th>\n",
              "      <td>TEA; BREWED                   8 FL OZ</td>\n",
              "      <td>240.00</td>\n",
              "      <td>0.0</td>\n",
              "      <td>0</td>\n",
              "    </tr>\n",
              "    <tr>\n",
              "      <th>958</th>\n",
              "      <td>TEA; INSTANT;PREPRD;UNSWEETEND8 FL OZ</td>\n",
              "      <td>241.00</td>\n",
              "      <td>0.0</td>\n",
              "      <td>0</td>\n",
              "    </tr>\n",
              "    <tr>\n",
              "      <th>959</th>\n",
              "      <td>LETTUCE; BUTTERHEAD; RAW;LEAVE1 LEAF</td>\n",
              "      <td>15.00</td>\n",
              "      <td>0.0</td>\n",
              "      <td>0</td>\n",
              "    </tr>\n",
              "    <tr>\n",
              "      <th>960</th>\n",
              "      <td>SALT                          1 TSP</td>\n",
              "      <td>5.50</td>\n",
              "      <td>0.0</td>\n",
              "      <td>0</td>\n",
              "    </tr>\n",
              "  </tbody>\n",
              "</table>\n",
              "<p>961 rows × 4 columns</p>\n",
              "</div>\n",
              "      <button class=\"colab-df-convert\" onclick=\"convertToInteractive('df-757f122f-29fa-4ed0-bd40-9b4add0a9997')\"\n",
              "              title=\"Convert this dataframe to an interactive table.\"\n",
              "              style=\"display:none;\">\n",
              "        \n",
              "  <svg xmlns=\"http://www.w3.org/2000/svg\" height=\"24px\"viewBox=\"0 0 24 24\"\n",
              "       width=\"24px\">\n",
              "    <path d=\"M0 0h24v24H0V0z\" fill=\"none\"/>\n",
              "    <path d=\"M18.56 5.44l.94 2.06.94-2.06 2.06-.94-2.06-.94-.94-2.06-.94 2.06-2.06.94zm-11 1L8.5 8.5l.94-2.06 2.06-.94-2.06-.94L8.5 2.5l-.94 2.06-2.06.94zm10 10l.94 2.06.94-2.06 2.06-.94-2.06-.94-.94-2.06-.94 2.06-2.06.94z\"/><path d=\"M17.41 7.96l-1.37-1.37c-.4-.4-.92-.59-1.43-.59-.52 0-1.04.2-1.43.59L10.3 9.45l-7.72 7.72c-.78.78-.78 2.05 0 2.83L4 21.41c.39.39.9.59 1.41.59.51 0 1.02-.2 1.41-.59l7.78-7.78 2.81-2.81c.8-.78.8-2.07 0-2.86zM5.41 20L4 18.59l7.72-7.72 1.47 1.35L5.41 20z\"/>\n",
              "  </svg>\n",
              "      </button>\n",
              "      \n",
              "  <style>\n",
              "    .colab-df-container {\n",
              "      display:flex;\n",
              "      flex-wrap:wrap;\n",
              "      gap: 12px;\n",
              "    }\n",
              "\n",
              "    .colab-df-convert {\n",
              "      background-color: #E8F0FE;\n",
              "      border: none;\n",
              "      border-radius: 50%;\n",
              "      cursor: pointer;\n",
              "      display: none;\n",
              "      fill: #1967D2;\n",
              "      height: 32px;\n",
              "      padding: 0 0 0 0;\n",
              "      width: 32px;\n",
              "    }\n",
              "\n",
              "    .colab-df-convert:hover {\n",
              "      background-color: #E2EBFA;\n",
              "      box-shadow: 0px 1px 2px rgba(60, 64, 67, 0.3), 0px 1px 3px 1px rgba(60, 64, 67, 0.15);\n",
              "      fill: #174EA6;\n",
              "    }\n",
              "\n",
              "    [theme=dark] .colab-df-convert {\n",
              "      background-color: #3B4455;\n",
              "      fill: #D2E3FC;\n",
              "    }\n",
              "\n",
              "    [theme=dark] .colab-df-convert:hover {\n",
              "      background-color: #434B5C;\n",
              "      box-shadow: 0px 1px 3px 1px rgba(0, 0, 0, 0.15);\n",
              "      filter: drop-shadow(0px 1px 2px rgba(0, 0, 0, 0.3));\n",
              "      fill: #FFFFFF;\n",
              "    }\n",
              "  </style>\n",
              "\n",
              "      <script>\n",
              "        const buttonEl =\n",
              "          document.querySelector('#df-757f122f-29fa-4ed0-bd40-9b4add0a9997 button.colab-df-convert');\n",
              "        buttonEl.style.display =\n",
              "          google.colab.kernel.accessAllowed ? 'block' : 'none';\n",
              "\n",
              "        async function convertToInteractive(key) {\n",
              "          const element = document.querySelector('#df-757f122f-29fa-4ed0-bd40-9b4add0a9997');\n",
              "          const dataTable =\n",
              "            await google.colab.kernel.invokeFunction('convertToInteractive',\n",
              "                                                     [key], {});\n",
              "          if (!dataTable) return;\n",
              "\n",
              "          const docLinkHtml = 'Like what you see? Visit the ' +\n",
              "            '<a target=\"_blank\" href=https://colab.research.google.com/notebooks/data_table.ipynb>data table notebook</a>'\n",
              "            + ' to learn more about interactive tables.';\n",
              "          element.innerHTML = '';\n",
              "          dataTable['output_type'] = 'display_data';\n",
              "          await google.colab.output.renderOutput(dataTable, element);\n",
              "          const docLink = document.createElement('div');\n",
              "          docLink.innerHTML = docLinkHtml;\n",
              "          element.appendChild(docLink);\n",
              "        }\n",
              "      </script>\n",
              "    </div>\n",
              "  </div>\n",
              "  "
            ]
          },
          "metadata": {},
          "execution_count": 1
        }
      ]
    },
    {
      "cell_type": "code",
      "source": [
        "# Sort the values by saturated fat content, and show the top 5 results using head\n",
        "nutritionDF.sort_values(by=['saturatedfat'], ascending=False).head(5)\n",
        "\n",
        "# I think comparing foods of different sizes has very little validity because\n",
        "# it could make larger foods seem worse than they are. A small food item would\n",
        "# usually have less saturated at but it could have more per ounce"
      ],
      "metadata": {
        "colab": {
          "base_uri": "https://localhost:8080/",
          "height": 285
        },
        "id": "v-D5Gji6fsgo",
        "outputId": "fd29c26d-7bec-4633-b23a-5b7e3aeb1d06"
      },
      "execution_count": 9,
      "outputs": [
        {
          "output_type": "execute_result",
          "data": {
            "text/plain": [
              "                                   fooditem  weightingrams  saturatedfat  \\\n",
              "378  CHEESECAKE                    1 CAKE           1110.0         119.9   \n",
              "535  ICE CREAM; VANLLA; RICH 16% FT1/2 GAL          1188.0         118.3   \n",
              "458  YELLOWCAKE W/ CHOCFRSTNG;COMML1 CAKE           1108.0          92.0   \n",
              "581  CREME PIE                     1 PIE             910.0          90.1   \n",
              "890  LARD                          1 CUP             205.0          80.4   \n",
              "\n",
              "     cholesterol  \n",
              "378         2053  \n",
              "535          703  \n",
              "458          609  \n",
              "581           46  \n",
              "890          195  "
            ],
            "text/html": [
              "\n",
              "  <div id=\"df-3d8ee4dd-85ba-48f5-93ef-4796312d335e\">\n",
              "    <div class=\"colab-df-container\">\n",
              "      <div>\n",
              "<style scoped>\n",
              "    .dataframe tbody tr th:only-of-type {\n",
              "        vertical-align: middle;\n",
              "    }\n",
              "\n",
              "    .dataframe tbody tr th {\n",
              "        vertical-align: top;\n",
              "    }\n",
              "\n",
              "    .dataframe thead th {\n",
              "        text-align: right;\n",
              "    }\n",
              "</style>\n",
              "<table border=\"1\" class=\"dataframe\">\n",
              "  <thead>\n",
              "    <tr style=\"text-align: right;\">\n",
              "      <th></th>\n",
              "      <th>fooditem</th>\n",
              "      <th>weightingrams</th>\n",
              "      <th>saturatedfat</th>\n",
              "      <th>cholesterol</th>\n",
              "    </tr>\n",
              "  </thead>\n",
              "  <tbody>\n",
              "    <tr>\n",
              "      <th>378</th>\n",
              "      <td>CHEESECAKE                    1 CAKE</td>\n",
              "      <td>1110.0</td>\n",
              "      <td>119.9</td>\n",
              "      <td>2053</td>\n",
              "    </tr>\n",
              "    <tr>\n",
              "      <th>535</th>\n",
              "      <td>ICE CREAM; VANLLA; RICH 16% FT1/2 GAL</td>\n",
              "      <td>1188.0</td>\n",
              "      <td>118.3</td>\n",
              "      <td>703</td>\n",
              "    </tr>\n",
              "    <tr>\n",
              "      <th>458</th>\n",
              "      <td>YELLOWCAKE W/ CHOCFRSTNG;COMML1 CAKE</td>\n",
              "      <td>1108.0</td>\n",
              "      <td>92.0</td>\n",
              "      <td>609</td>\n",
              "    </tr>\n",
              "    <tr>\n",
              "      <th>581</th>\n",
              "      <td>CREME PIE                     1 PIE</td>\n",
              "      <td>910.0</td>\n",
              "      <td>90.1</td>\n",
              "      <td>46</td>\n",
              "    </tr>\n",
              "    <tr>\n",
              "      <th>890</th>\n",
              "      <td>LARD                          1 CUP</td>\n",
              "      <td>205.0</td>\n",
              "      <td>80.4</td>\n",
              "      <td>195</td>\n",
              "    </tr>\n",
              "  </tbody>\n",
              "</table>\n",
              "</div>\n",
              "      <button class=\"colab-df-convert\" onclick=\"convertToInteractive('df-3d8ee4dd-85ba-48f5-93ef-4796312d335e')\"\n",
              "              title=\"Convert this dataframe to an interactive table.\"\n",
              "              style=\"display:none;\">\n",
              "        \n",
              "  <svg xmlns=\"http://www.w3.org/2000/svg\" height=\"24px\"viewBox=\"0 0 24 24\"\n",
              "       width=\"24px\">\n",
              "    <path d=\"M0 0h24v24H0V0z\" fill=\"none\"/>\n",
              "    <path d=\"M18.56 5.44l.94 2.06.94-2.06 2.06-.94-2.06-.94-.94-2.06-.94 2.06-2.06.94zm-11 1L8.5 8.5l.94-2.06 2.06-.94-2.06-.94L8.5 2.5l-.94 2.06-2.06.94zm10 10l.94 2.06.94-2.06 2.06-.94-2.06-.94-.94-2.06-.94 2.06-2.06.94z\"/><path d=\"M17.41 7.96l-1.37-1.37c-.4-.4-.92-.59-1.43-.59-.52 0-1.04.2-1.43.59L10.3 9.45l-7.72 7.72c-.78.78-.78 2.05 0 2.83L4 21.41c.39.39.9.59 1.41.59.51 0 1.02-.2 1.41-.59l7.78-7.78 2.81-2.81c.8-.78.8-2.07 0-2.86zM5.41 20L4 18.59l7.72-7.72 1.47 1.35L5.41 20z\"/>\n",
              "  </svg>\n",
              "      </button>\n",
              "      \n",
              "  <style>\n",
              "    .colab-df-container {\n",
              "      display:flex;\n",
              "      flex-wrap:wrap;\n",
              "      gap: 12px;\n",
              "    }\n",
              "\n",
              "    .colab-df-convert {\n",
              "      background-color: #E8F0FE;\n",
              "      border: none;\n",
              "      border-radius: 50%;\n",
              "      cursor: pointer;\n",
              "      display: none;\n",
              "      fill: #1967D2;\n",
              "      height: 32px;\n",
              "      padding: 0 0 0 0;\n",
              "      width: 32px;\n",
              "    }\n",
              "\n",
              "    .colab-df-convert:hover {\n",
              "      background-color: #E2EBFA;\n",
              "      box-shadow: 0px 1px 2px rgba(60, 64, 67, 0.3), 0px 1px 3px 1px rgba(60, 64, 67, 0.15);\n",
              "      fill: #174EA6;\n",
              "    }\n",
              "\n",
              "    [theme=dark] .colab-df-convert {\n",
              "      background-color: #3B4455;\n",
              "      fill: #D2E3FC;\n",
              "    }\n",
              "\n",
              "    [theme=dark] .colab-df-convert:hover {\n",
              "      background-color: #434B5C;\n",
              "      box-shadow: 0px 1px 3px 1px rgba(0, 0, 0, 0.15);\n",
              "      filter: drop-shadow(0px 1px 2px rgba(0, 0, 0, 0.3));\n",
              "      fill: #FFFFFF;\n",
              "    }\n",
              "  </style>\n",
              "\n",
              "      <script>\n",
              "        const buttonEl =\n",
              "          document.querySelector('#df-3d8ee4dd-85ba-48f5-93ef-4796312d335e button.colab-df-convert');\n",
              "        buttonEl.style.display =\n",
              "          google.colab.kernel.accessAllowed ? 'block' : 'none';\n",
              "\n",
              "        async function convertToInteractive(key) {\n",
              "          const element = document.querySelector('#df-3d8ee4dd-85ba-48f5-93ef-4796312d335e');\n",
              "          const dataTable =\n",
              "            await google.colab.kernel.invokeFunction('convertToInteractive',\n",
              "                                                     [key], {});\n",
              "          if (!dataTable) return;\n",
              "\n",
              "          const docLinkHtml = 'Like what you see? Visit the ' +\n",
              "            '<a target=\"_blank\" href=https://colab.research.google.com/notebooks/data_table.ipynb>data table notebook</a>'\n",
              "            + ' to learn more about interactive tables.';\n",
              "          element.innerHTML = '';\n",
              "          dataTable['output_type'] = 'display_data';\n",
              "          await google.colab.output.renderOutput(dataTable, element);\n",
              "          const docLink = document.createElement('div');\n",
              "          docLink.innerHTML = docLinkHtml;\n",
              "          element.appendChild(docLink);\n",
              "        }\n",
              "      </script>\n",
              "    </div>\n",
              "  </div>\n",
              "  "
            ]
          },
          "metadata": {},
          "execution_count": 9
        }
      ]
    },
    {
      "cell_type": "code",
      "source": [
        "# Create saturated_fat_per_gram\n",
        "\n",
        "# create the column by dividing satfat and weightingrams for each column\n",
        "nutritionDF.apply(lambda row: row.saturatedfat / row.weightingrams, axis=1)\n",
        "\n",
        "# put this column in the dataframe\n",
        "nutritionDF['saturated_fat_per_gram'] = nutritionDF.apply(lambda row: row.saturatedfat / row.weightingrams, axis=1)\n",
        "\n",
        "# Sort by satur saturated_fat_per_gram\n",
        "nutritionDF.sort_values(by=['saturated_fat_per_gram'], ascending=False).head(5)\n",
        "\n",
        "# Butter; salted 1 tbsp (908) has the highest saturated fat per gram"
      ],
      "metadata": {
        "colab": {
          "base_uri": "https://localhost:8080/",
          "height": 424
        },
        "id": "RLwJAH5bhsri",
        "outputId": "d5d9bb15-1a09-4c9c-f4f9-5814d52d5921"
      },
      "execution_count": 16,
      "outputs": [
        {
          "output_type": "execute_result",
          "data": {
            "text/plain": [
              "                                   fooditem  weightingrams  saturatedfat  \\\n",
              "908  BUTTER; SALTED                1 TBSP             14.0           7.1   \n",
              "909  BUTTER; UNSALTED              1 TBSP             14.0           7.1   \n",
              "710  BUTTER; UNSALTED              1/2 CUP           113.0          57.1   \n",
              "709  BUTTER; SALTED                1/2 CUP           113.0          57.1   \n",
              "913  BUTTER; UNSALTED              1 PAT               5.0           2.5   \n",
              "\n",
              "     cholesterol  saturated_fat_per_gram  \n",
              "908           31                0.507143  \n",
              "909           31                0.507143  \n",
              "710          247                0.505310  \n",
              "709          247                0.505310  \n",
              "913           11                0.500000  "
            ],
            "text/html": [
              "\n",
              "  <div id=\"df-a015396d-6d33-4b56-ad12-2015d50d3c57\">\n",
              "    <div class=\"colab-df-container\">\n",
              "      <div>\n",
              "<style scoped>\n",
              "    .dataframe tbody tr th:only-of-type {\n",
              "        vertical-align: middle;\n",
              "    }\n",
              "\n",
              "    .dataframe tbody tr th {\n",
              "        vertical-align: top;\n",
              "    }\n",
              "\n",
              "    .dataframe thead th {\n",
              "        text-align: right;\n",
              "    }\n",
              "</style>\n",
              "<table border=\"1\" class=\"dataframe\">\n",
              "  <thead>\n",
              "    <tr style=\"text-align: right;\">\n",
              "      <th></th>\n",
              "      <th>fooditem</th>\n",
              "      <th>weightingrams</th>\n",
              "      <th>saturatedfat</th>\n",
              "      <th>cholesterol</th>\n",
              "      <th>saturated_fat_per_gram</th>\n",
              "    </tr>\n",
              "  </thead>\n",
              "  <tbody>\n",
              "    <tr>\n",
              "      <th>908</th>\n",
              "      <td>BUTTER; SALTED                1 TBSP</td>\n",
              "      <td>14.0</td>\n",
              "      <td>7.1</td>\n",
              "      <td>31</td>\n",
              "      <td>0.507143</td>\n",
              "    </tr>\n",
              "    <tr>\n",
              "      <th>909</th>\n",
              "      <td>BUTTER; UNSALTED              1 TBSP</td>\n",
              "      <td>14.0</td>\n",
              "      <td>7.1</td>\n",
              "      <td>31</td>\n",
              "      <td>0.507143</td>\n",
              "    </tr>\n",
              "    <tr>\n",
              "      <th>710</th>\n",
              "      <td>BUTTER; UNSALTED              1/2 CUP</td>\n",
              "      <td>113.0</td>\n",
              "      <td>57.1</td>\n",
              "      <td>247</td>\n",
              "      <td>0.505310</td>\n",
              "    </tr>\n",
              "    <tr>\n",
              "      <th>709</th>\n",
              "      <td>BUTTER; SALTED                1/2 CUP</td>\n",
              "      <td>113.0</td>\n",
              "      <td>57.1</td>\n",
              "      <td>247</td>\n",
              "      <td>0.505310</td>\n",
              "    </tr>\n",
              "    <tr>\n",
              "      <th>913</th>\n",
              "      <td>BUTTER; UNSALTED              1 PAT</td>\n",
              "      <td>5.0</td>\n",
              "      <td>2.5</td>\n",
              "      <td>11</td>\n",
              "      <td>0.500000</td>\n",
              "    </tr>\n",
              "  </tbody>\n",
              "</table>\n",
              "</div>\n",
              "      <button class=\"colab-df-convert\" onclick=\"convertToInteractive('df-a015396d-6d33-4b56-ad12-2015d50d3c57')\"\n",
              "              title=\"Convert this dataframe to an interactive table.\"\n",
              "              style=\"display:none;\">\n",
              "        \n",
              "  <svg xmlns=\"http://www.w3.org/2000/svg\" height=\"24px\"viewBox=\"0 0 24 24\"\n",
              "       width=\"24px\">\n",
              "    <path d=\"M0 0h24v24H0V0z\" fill=\"none\"/>\n",
              "    <path d=\"M18.56 5.44l.94 2.06.94-2.06 2.06-.94-2.06-.94-.94-2.06-.94 2.06-2.06.94zm-11 1L8.5 8.5l.94-2.06 2.06-.94-2.06-.94L8.5 2.5l-.94 2.06-2.06.94zm10 10l.94 2.06.94-2.06 2.06-.94-2.06-.94-.94-2.06-.94 2.06-2.06.94z\"/><path d=\"M17.41 7.96l-1.37-1.37c-.4-.4-.92-.59-1.43-.59-.52 0-1.04.2-1.43.59L10.3 9.45l-7.72 7.72c-.78.78-.78 2.05 0 2.83L4 21.41c.39.39.9.59 1.41.59.51 0 1.02-.2 1.41-.59l7.78-7.78 2.81-2.81c.8-.78.8-2.07 0-2.86zM5.41 20L4 18.59l7.72-7.72 1.47 1.35L5.41 20z\"/>\n",
              "  </svg>\n",
              "      </button>\n",
              "      \n",
              "  <style>\n",
              "    .colab-df-container {\n",
              "      display:flex;\n",
              "      flex-wrap:wrap;\n",
              "      gap: 12px;\n",
              "    }\n",
              "\n",
              "    .colab-df-convert {\n",
              "      background-color: #E8F0FE;\n",
              "      border: none;\n",
              "      border-radius: 50%;\n",
              "      cursor: pointer;\n",
              "      display: none;\n",
              "      fill: #1967D2;\n",
              "      height: 32px;\n",
              "      padding: 0 0 0 0;\n",
              "      width: 32px;\n",
              "    }\n",
              "\n",
              "    .colab-df-convert:hover {\n",
              "      background-color: #E2EBFA;\n",
              "      box-shadow: 0px 1px 2px rgba(60, 64, 67, 0.3), 0px 1px 3px 1px rgba(60, 64, 67, 0.15);\n",
              "      fill: #174EA6;\n",
              "    }\n",
              "\n",
              "    [theme=dark] .colab-df-convert {\n",
              "      background-color: #3B4455;\n",
              "      fill: #D2E3FC;\n",
              "    }\n",
              "\n",
              "    [theme=dark] .colab-df-convert:hover {\n",
              "      background-color: #434B5C;\n",
              "      box-shadow: 0px 1px 3px 1px rgba(0, 0, 0, 0.15);\n",
              "      filter: drop-shadow(0px 1px 2px rgba(0, 0, 0, 0.3));\n",
              "      fill: #FFFFFF;\n",
              "    }\n",
              "  </style>\n",
              "\n",
              "      <script>\n",
              "        const buttonEl =\n",
              "          document.querySelector('#df-a015396d-6d33-4b56-ad12-2015d50d3c57 button.colab-df-convert');\n",
              "        buttonEl.style.display =\n",
              "          google.colab.kernel.accessAllowed ? 'block' : 'none';\n",
              "\n",
              "        async function convertToInteractive(key) {\n",
              "          const element = document.querySelector('#df-a015396d-6d33-4b56-ad12-2015d50d3c57');\n",
              "          const dataTable =\n",
              "            await google.colab.kernel.invokeFunction('convertToInteractive',\n",
              "                                                     [key], {});\n",
              "          if (!dataTable) return;\n",
              "\n",
              "          const docLinkHtml = 'Like what you see? Visit the ' +\n",
              "            '<a target=\"_blank\" href=https://colab.research.google.com/notebooks/data_table.ipynb>data table notebook</a>'\n",
              "            + ' to learn more about interactive tables.';\n",
              "          element.innerHTML = '';\n",
              "          dataTable['output_type'] = 'display_data';\n",
              "          await google.colab.output.renderOutput(dataTable, element);\n",
              "          const docLink = document.createElement('div');\n",
              "          docLink.innerHTML = docLinkHtml;\n",
              "          element.appendChild(docLink);\n",
              "        }\n",
              "      </script>\n",
              "    </div>\n",
              "  </div>\n",
              "  "
            ]
          },
          "metadata": {},
          "execution_count": 16
        }
      ]
    },
    {
      "cell_type": "code",
      "source": [
        "# Standardize the field saturated_fat_per_gram\n",
        "from scipy import stats\n",
        "import matplotlib.pyplot as plt\n",
        "\n",
        "# nan_policy set to omit to get rid of ignore NaN values in the calculation\n",
        "nutritionDF['scaled_sat_fat_per_gram'] = stats.zscore(nutritionDF.saturated_fat_per_gram, nan_policy='omit')\n",
        "\n",
        "# Find outliers\n",
        "nutritionOutliers = nutritionDF.query('(scaled_sat_fat_per_gram > 3 | scaled_sat_fat_per_gram < -3)')['scaled_sat_fat_per_gram']\n",
        "nutritionOutliersHigh = nutritionDF.query('(scaled_sat_fat_per_gram > 3)')['scaled_sat_fat_per_gram']\n",
        "nutritionOutliersLow = nutritionDF.query('(scaled_sat_fat_per_gram < -3)')['scaled_sat_fat_per_gram']\n",
        "\n",
        "# List of high outliers\n",
        "nutritionOutliersHigh.sort_values(ascending=False)\n"
      ],
      "metadata": {
        "colab": {
          "base_uri": "https://localhost:8080/"
        },
        "id": "UUlZuW9hjs_u",
        "outputId": "5bb49150-05cc-4353-d69d-32a36965cfee"
      },
      "execution_count": 36,
      "outputs": [
        {
          "output_type": "execute_result",
          "data": {
            "text/plain": [
              "908    7.110475\n",
              "909    7.110475\n",
              "709    7.082741\n",
              "710    7.082741\n",
              "912    7.002408\n",
              "913    7.002408\n",
              "899    5.373078\n",
              "890    5.371375\n",
              "920    4.732985\n",
              "210    4.240676\n",
              "492    4.204266\n",
              "576    3.942889\n",
              "448    3.938687\n",
              "898    3.278227\n",
              "907    3.223726\n",
              "Name: scaled_sat_fat_per_gram, dtype: float64"
            ]
          },
          "metadata": {},
          "execution_count": 36
        }
      ]
    },
    {
      "cell_type": "code",
      "source": [
        "# Count low outliers\n",
        "nutritionOutliersLow.count()\n",
        "\n",
        "# There were no outliers at the low end of the scale"
      ],
      "metadata": {
        "colab": {
          "base_uri": "https://localhost:8080/"
        },
        "id": "FZfM3GXzm0Hf",
        "outputId": "40db1ad9-a41c-4a60-9f19-4680bd1585b1"
      },
      "execution_count": 37,
      "outputs": [
        {
          "output_type": "execute_result",
          "data": {
            "text/plain": [
              "0"
            ]
          },
          "metadata": {},
          "execution_count": 37
        }
      ]
    },
    {
      "cell_type": "code",
      "source": [
        "# Density plot for saturated_fat_per_gram\n",
        "from scipy import stats\n",
        "import matplotlib.pyplot as plt\n",
        "\n",
        "# Create the plot\n",
        "nutritionDF.scaled_sat_fat_per_gram.plot.density(color=\"blue\")\n",
        "\n",
        "#Title\n",
        "plt.title('Density plot for scaled_sat_fat_per_gram')\n",
        "plt.show()\n",
        "\n"
      ],
      "metadata": {
        "colab": {
          "base_uri": "https://localhost:8080/",
          "height": 281
        },
        "id": "D2BSVCikm4Ga",
        "outputId": "c9078a1b-6cc6-4f9e-eb57-77fa46abdff1"
      },
      "execution_count": 41,
      "outputs": [
        {
          "output_type": "display_data",
          "data": {
            "text/plain": [
              "<Figure size 432x288 with 1 Axes>"
            ],
            "image/png": "[encoded data removed]"
          },
          "metadata": {
            "needs_background": "light"
          }
        }
      ]
    },
    {
      "cell_type": "code",
      "source": [
        "# Addressing missing values\n",
        "import numpy as np\n",
        "\n",
        "# Load sklearn\n",
        "from sklearn.impute import SimpleImputer\n",
        "\n",
        "# Create imputer\n",
        "imputer = SimpleImputer(missing_values=np.nan, strategy='median')\n",
        "\n",
        "# For weightingrams, I chose mean as my imputing strategy\n",
        "nutritionDF.weightingrams = imputer.fit_transform(nutritionDF['weightingrams'].values.reshape(-1,1))[:,0]\n",
        "\n",
        "# For fooditem, I chose mode because this is a categorical attribute\n",
        "imputer = SimpleImputer(missing_values=np.nan, strategy='most_frequent')\n",
        "nutritionDF.fooditem = imputer.fit_transform(nutritionDF['fooditem'].values.reshape(-1,1))[:,0]\n",
        "\n",
        "# For saturatedfat, cholesterol, and scaled saturated fat, I chose the median \n",
        "# because of how much values vary in size, this seemed most likely to be accurate or not skewed\n",
        "imputer = SimpleImputer(missing_values=np.nan, strategy='median')\n",
        "nutritionDF.saturatedfat = imputer.fit_transform(nutritionDF['saturatedfat'].values.reshape(-1,1))[:,0]\n",
        "\n",
        "imputer = SimpleImputer(missing_values=np.nan, strategy='median')\n",
        "nutritionDF.cholesterol = imputer.fit_transform(nutritionDF['cholesterol'].values.reshape(-1,1))[:,0]\n",
        "\n",
        "imputer = SimpleImputer(missing_values=np.nan, strategy='median')\n",
        "nutritionDF.saturated_fat_per_gram = imputer.fit_transform(nutritionDF['saturated_fat_per_gram'].values.reshape(-1,1))[:,0]\n",
        "\n",
        "\n",
        "# Since the data had such a large range in sample sizes, I found it was better to use median,\n",
        "# To avoid any skewing"
      ],
      "metadata": {
        "id": "GjVxXzdOoAqC"
      },
      "execution_count": 47,
      "outputs": []
    },
    {
      "cell_type": "code",
      "source": [
        "# Standardize the field saturatedfat\n",
        "from scipy import stats\n",
        "import matplotlib.pyplot as plt\n",
        "\n",
        "# nan_policy set to omit to get rid of ignore NaN values in the calculation\n",
        "nutritionDF['scaledsaturatedfat'] = stats.zscore(nutritionDF.saturatedfat, nan_policy='omit')\n",
        "\n",
        "# Find outliers\n",
        "nutritionOutliers = nutritionDF.query('(scaledsaturatedfat > 3 | scaledsaturatedfat < -3)')['scaledsaturatedfat']\n",
        "\n",
        "nutritionOutliers.size\n",
        "\n",
        "# There are 20 outliers for saturated fat"
      ],
      "metadata": {
        "colab": {
          "base_uri": "https://localhost:8080/"
        },
        "id": "u0wwhCHi1WAL",
        "outputId": "9c15a9b3-c594-4db0-f082-ce8e323466e6"
      },
      "execution_count": 101,
      "outputs": [
        {
          "output_type": "execute_result",
          "data": {
            "text/plain": [
              "20"
            ]
          },
          "metadata": {},
          "execution_count": 101
        }
      ]
    },
    {
      "cell_type": "code",
      "source": [
        "# Standardize the field weightingrams\n",
        "from scipy import stats\n",
        "import matplotlib.pyplot as plt\n",
        "\n",
        "# nan_policy set to omit to get rid of ignore NaN values in the calculation\n",
        "nutritionDF['scaledweightingrams'] = stats.zscore(nutritionDF.weightingrams, nan_policy='omit')\n",
        "\n",
        "# Find outliers\n",
        "nutritionOutliers = nutritionDF.query('(scaledweightingrams > 3 | scaledweightingrams < -3)')['scaledweightingrams']\n",
        "\n",
        "nutritionOutliers.size\n",
        "\n",
        "# There are 22 outliers for weight in grams"
      ],
      "metadata": {
        "colab": {
          "base_uri": "https://localhost:8080/"
        },
        "id": "x-FUyHMu2ewq",
        "outputId": "9bfd0101-5318-4d6b-a502-6f9180552a08"
      },
      "execution_count": 102,
      "outputs": [
        {
          "output_type": "execute_result",
          "data": {
            "text/plain": [
              "22"
            ]
          },
          "metadata": {},
          "execution_count": 102
        }
      ]
    },
    {
      "cell_type": "code",
      "source": [
        "# Standardize the field cholesterol\n",
        "from scipy import stats\n",
        "import matplotlib.pyplot as plt\n",
        "\n",
        "# nan_policy set to omit to get rid of ignore NaN values in the calculation\n",
        "nutritionDF['scaledcholesterol'] = stats.zscore(nutritionDF.cholesterol, nan_policy='omit')\n",
        "\n",
        "# Find outliers\n",
        "nutritionOutliers = nutritionDF.query('(scaledcholesterol > 3 | scaledcholesterol < -3)')['scaledcholesterol']\n",
        "\n",
        "nutritionOutliers.size\n",
        "\n",
        "# There are 17 outliers for cholesterol"
      ],
      "metadata": {
        "colab": {
          "base_uri": "https://localhost:8080/"
        },
        "id": "jgmV4L0P2o-A",
        "outputId": "d479175f-671f-4e61-d6d0-1a1707692d18"
      },
      "execution_count": 104,
      "outputs": [
        {
          "output_type": "execute_result",
          "data": {
            "text/plain": [
              "17"
            ]
          },
          "metadata": {},
          "execution_count": 104
        }
      ]
    },
    {
      "cell_type": "code",
      "source": [
        "# Load R, then read in the dataframe\n",
        "%%R\n",
        "\n",
        "library(readr)\n",
        "nutritionDF <- read_csv(\"https://raw.githubusercontent.com/mattcar265/IDS/main/Project%204/nutrition_subset.csv\", show_col_types = FALSE)\n",
        "\n",
        "summary(nutritionDF)"
      ],
      "metadata": {
        "colab": {
          "base_uri": "https://localhost:8080/"
        },
        "id": "qzqpZ96dsqsF",
        "outputId": "ac4234f7-1893-4021-c829-b91ae50a6597"
      },
      "execution_count": 50,
      "outputs": [
        {
          "output_type": "stream",
          "name": "stdout",
          "text": [
            "   fooditem         weightingrams     saturatedfat      cholesterol     \n",
            " Length:961         Min.   :   0.4   Min.   :  0.000   Min.   :   0.00  \n",
            " Class :character   1st Qu.:  32.0   1st Qu.:  0.000   1st Qu.:   0.00  \n",
            " Mode  :character   Median : 113.0   Median :  0.400   Median :   0.00  \n",
            "                    Mean   : 149.4   Mean   :  3.988   Mean   :  32.55  \n",
            "                    3rd Qu.: 218.0   3rd Qu.:  3.300   3rd Qu.:  20.00  \n",
            "                    Max.   :1542.0   Max.   :119.900   Max.   :2053.00  \n"
          ]
        }
      ]
    },
    {
      "cell_type": "code",
      "source": [
        "# Sort by saturated fat\n",
        "%%R\n",
        "\n",
        "head(nutritionDF[order(nutritionDF$saturatedfat, decreasing=TRUE), 1:4], n=5)\n",
        "\n",
        "# I think comparing foods of different sizes has very little validity because\n",
        "# it could make larger foods seem worse than they are. A small food item would\n",
        "# usually have less saturated at but it could have more per ounce\n"
      ],
      "metadata": {
        "colab": {
          "base_uri": "https://localhost:8080/"
        },
        "id": "3q6-_Pcps_fV",
        "outputId": "345c5d78-7ea2-47e6-ad2f-19de11988e61"
      },
      "execution_count": 55,
      "outputs": [
        {
          "output_type": "stream",
          "name": "stdout",
          "text": [
            "# A tibble: 5 × 4\n",
            "  fooditem                              weightingrams saturatedfat cholesterol\n",
            "  <chr>                                         <dbl>        <dbl>       <dbl>\n",
            "1 CHEESECAKE                    1 CAKE           1110        120.         2053\n",
            "2 ICE CREAM; VANLLA; RICH 16% FT1/2 GAL          1188        118.          703\n",
            "3 YELLOWCAKE W/ CHOCFRSTNG;COMML1 CAKE           1108         92           609\n",
            "4 CREME PIE                     1 PIE             910         90.1          46\n",
            "5 LARD                          1 CUP             205         80.4         195\n"
          ]
        }
      ]
    },
    {
      "cell_type": "code",
      "source": [
        "# Add saturated_fat_per_gram column\n",
        "%%R\n",
        "\n",
        "# Gives mutate function\n",
        "library(dplyr)\n",
        "\n",
        "# Input column\n",
        "nutritionDF <- nutritionDF %>%\n",
        "  mutate(saturated_fat_per_gram = saturatedfat / weightingrams)\n",
        "\n",
        "head(nutritionDF[order(nutritionDF$saturated_fat_per_gram, decreasing=TRUE), 1:5])\n",
        "\n",
        "# Butter; salted 1 tbsp (908) has the highest saturated fat per gram"
      ],
      "metadata": {
        "colab": {
          "base_uri": "https://localhost:8080/"
        },
        "id": "ZzpHA62qthN4",
        "outputId": "c0a3d573-bd99-4d7f-cf8e-786e46678a65"
      },
      "execution_count": 68,
      "outputs": [
        {
          "output_type": "stream",
          "name": "stdout",
          "text": [
            "# A tibble: 6 × 5\n",
            "  fooditem               weightingrams saturatedfat cholesterol saturated_fat_p…\n",
            "  <chr>                          <dbl>        <dbl>       <dbl>            <dbl>\n",
            "1 BUTTER; SALTED       …            14          7.1          31            0.507\n",
            "2 BUTTER; UNSALTED     …            14          7.1          31            0.507\n",
            "3 BUTTER; SALTED       …           113         57.1         247            0.505\n",
            "4 BUTTER; UNSALTED     …           113         57.1         247            0.505\n",
            "5 BUTTER; SALTED       …             5          2.5          11            0.5  \n",
            "6 BUTTER; UNSALTED     …             5          2.5          11            0.5  \n"
          ]
        }
      ]
    },
    {
      "cell_type": "code",
      "source": [
        "# Standardize saturated_fat_per_gram\n",
        "%%R\n",
        "\n",
        "nutritionDF$scaled_sat_fat_per_gram <- scale(x = nutritionDF$saturated_fat_per_gram)\n",
        "\n",
        "# Print to check that the mean is 0\n",
        "# summary(nutritionDF$scaled_sat_fat_per_gram)\n",
        "\n",
        "# Display all high values\n",
        "highDF <- subset(nutritionDF, scaled_sat_fat_per_gram > 3)\n",
        "highDF[order(highDF$saturated_fat_per_gram, decreasing=TRUE), 1:5]\n"
      ],
      "metadata": {
        "colab": {
          "base_uri": "https://localhost:8080/"
        },
        "id": "pH_QdKn4vSQL",
        "outputId": "a5eaa39a-b88a-43c8-a09c-0343fb2ab24c"
      },
      "execution_count": 82,
      "outputs": [
        {
          "output_type": "stream",
          "name": "stdout",
          "text": [
            "# A tibble: 15 × 5\n",
            "   fooditem              weightingrams saturatedfat cholesterol saturated_fat_p…\n",
            "   <chr>                         <dbl>        <dbl>       <dbl>            <dbl>\n",
            " 1 BUTTER; SALTED      …          14            7.1          31            0.507\n",
            " 2 BUTTER; UNSALTED    …          14            7.1          31            0.507\n",
            " 3 BUTTER; SALTED      …         113           57.1         247            0.505\n",
            " 4 BUTTER; UNSALTED    …         113           57.1         247            0.505\n",
            " 5 BUTTER; SALTED      …           5            2.5          11            0.5  \n",
            " 6 BUTTER; UNSALTED    …           5            2.5          11            0.5  \n",
            " 7 LARD                …          13            5.1          12            0.392\n",
            " 8 LARD                …         205           80.4         195            0.392\n",
            " 9 IMITATION CREAMERS; …           2            0.7           0            0.35 \n",
            "10 CHOCOLATE; BITTER OT…          28.4          9             0            0.317\n",
            "11 COCONUT; DRIED; SWEE…          93           29.3           0            0.315\n",
            "12 COCONUT; RAW; PIECE …          45           13.4           0            0.298\n",
            "13 COCONUT; RAW; SHREDD…          80           23.8           0            0.298\n",
            "14 FATS; COOKING/VEGETB…          13            3.3           0            0.254\n",
            "15 FATS; COOKING/VEGETB…         205           51.3           0            0.250\n"
          ]
        }
      ]
    },
    {
      "cell_type": "code",
      "source": [
        "# Count how many low values there are\n",
        "%%R\n",
        "\n",
        "lowDF <- subset(nutritionDF, scaled_sat_fat_per_gram < -3)\n",
        "dim(lowDF)\n",
        "\n",
        "# This shows that there are 0 low values"
      ],
      "metadata": {
        "colab": {
          "base_uri": "https://localhost:8080/"
        },
        "id": "5-2KAqOyw2oA",
        "outputId": "6e3ea205-9c53-4ae3-d650-b534759b043f"
      },
      "execution_count": 91,
      "outputs": [
        {
          "output_type": "stream",
          "name": "stdout",
          "text": [
            "[1] 0 6\n"
          ]
        }
      ]
    },
    {
      "cell_type": "code",
      "source": [
        "# Addressing missing values\n",
        "%%R\n",
        "\n",
        "# Load hmisc for imputing the values\n",
        "install.packages(\"Hmisc\")\n",
        "library(Hmisc)"
      ],
      "metadata": {
        "colab": {
          "base_uri": "https://localhost:8080/"
        },
        "id": "MWFhP0rC0NcR",
        "outputId": "5374f3ab-016c-4817-8ab9-3084a22e66b7"
      },
      "execution_count": 94,
      "outputs": [
        {
          "output_type": "stream",
          "name": "stderr",
          "text": [
            "R[write to console]: Installing package into ‘/usr/local/lib/R/site-library’\n",
            "(as ‘lib’ is unspecified)\n",
            "\n",
            "R[write to console]: trying URL 'https://cran.rstudio.com/src/contrib/Hmisc_4.6-0.tar.gz'\n",
            "\n",
            "R[write to console]: Content type 'application/x-gzip'\n",
            "R[write to console]:  length 784633 bytes (766 KB)\n",
            "\n",
            "R[write to console]: =\n",
            "R[write to console]: =\n",
            "R[write to console]: =\n",
            "R[write to console]: =\n",
            "R[write to console]: =\n",
            "R[write to console]: =\n",
            "R[write to console]: =\n",
            "R[write to console]: =\n",
            "R[write to console]: =\n",
            "R[write to console]: =\n",
            "R[write to console]: =\n",
            "R[write to console]: =\n",
            "R[write to console]: =\n",
            "R[write to console]: =\n",
            "R[write to console]: =\n",
            "R[write to console]: =\n",
            "R[write to console]: =\n",
            "R[write to console]: =\n",
            "R[write to console]: =\n",
            "R[write to console]: =\n",
            "R[write to console]: =\n",
            "R[write to console]: =\n",
            "R[write to console]: =\n",
            "R[write to console]: =\n",
            "R[write to console]: =\n",
            "R[write to console]: =\n",
            "R[write to console]: =\n",
            "R[write to console]: =\n",
            "R[write to console]: =\n",
            "R[write to console]: =\n",
            "R[write to console]: =\n",
            "R[write to console]: =\n",
            "R[write to console]: =\n",
            "R[write to console]: =\n",
            "R[write to console]: =\n",
            "R[write to console]: =\n",
            "R[write to console]: =\n",
            "R[write to console]: =\n",
            "R[write to console]: =\n",
            "R[write to console]: =\n",
            "R[write to console]: =\n",
            "R[write to console]: =\n",
            "R[write to console]: =\n",
            "R[write to console]: =\n",
            "R[write to console]: =\n",
            "R[write to console]: =\n",
            "R[write to console]: =\n",
            "R[write to console]: =\n",
            "R[write to console]: =\n",
            "R[write to console]: =\n",
            "R[write to console]: \n",
            "\n",
            "R[write to console]: downloaded 766 KB\n",
            "\n",
            "\n",
            "R[write to console]: \n",
            "\n",
            "R[write to console]: \n",
            "R[write to console]: The downloaded source packages are in\n",
            "\t‘/tmp/RtmpLe9OCY/downloaded_packages’\n",
            "R[write to console]: \n",
            "R[write to console]: \n",
            "\n",
            "R[write to console]: Loading required package: lattice\n",
            "\n",
            "R[write to console]: Loading required package: survival\n",
            "\n",
            "R[write to console]: Loading required package: Formula\n",
            "\n",
            "R[write to console]: Loading required package: ggplot2\n",
            "\n",
            "R[write to console]: \n",
            "Attaching package: ‘Hmisc’\n",
            "\n",
            "\n",
            "R[write to console]: The following objects are masked from ‘package:dplyr’:\n",
            "\n",
            "    src, summarize\n",
            "\n",
            "\n",
            "R[write to console]: The following objects are masked from ‘package:base’:\n",
            "\n",
            "    format.pval, units\n",
            "\n",
            "\n"
          ]
        }
      ]
    },
    {
      "cell_type": "code",
      "source": [
        "%%R\n",
        "\n",
        "# Same imputation choices from Python\n",
        "nutritionDF$fooditem_imputed <- with(nutritionDF, impute(fooditem, most_frequent))\n",
        "\n",
        "nutritionDF$weightingrams_imputed <- with(nutritionDF, impute(weightingrams, median))\n",
        "\n",
        "nutritionDF$saturatedfat_imputed <- with(nutritionDF, impute(saturatedfat, median))\n",
        "\n",
        "nutritionDF$cholesterol_imputed <- with(nutritionDF, impute(cholesterol, median))\n",
        "\n",
        "nutritionDF$scaled_saturated_imputed <- with(nutritionDF, impute(scaled_sat_fat_per_gram, median))"
      ],
      "metadata": {
        "id": "RXq8wlmk24QA"
      },
      "execution_count": 117,
      "outputs": []
    },
    {
      "cell_type": "code",
      "source": [
        "# Standardize weightingrams\n",
        "%%R\n",
        "\n",
        "nutritionDF$scaled_weightingrams <- scale(x = nutritionDF$weightingrams)\n",
        "\n",
        "# Determine the three sigma rule for the scaled_education attribute\n",
        "three_sigma_rule <- (nutritionDF$scaled_weightingrams < -3 |\n",
        "                     nutritionDF$scaled_weightingrams > 3)\n",
        "\n",
        "# Count the outliers\n",
        "cat(\"Total outliers:\", sum(three_sigma_rule))\n",
        "\n",
        "# Display the outliers\n",
        "cat(\"\\n\\nA list of these outliers: \\n\")\n",
        "nutritionDF$scaled_weightingrams[which(three_sigma_rule)]"
      ],
      "metadata": {
        "colab": {
          "base_uri": "https://localhost:8080/"
        },
        "id": "LZFh2ZvD4Wn1",
        "outputId": "77d60e2a-94a1-45c3-baaf-fb4b41327352"
      },
      "execution_count": 123,
      "outputs": [
        {
          "output_type": "stream",
          "name": "stdout",
          "text": [
            "Total outliers: 22\n",
            "\n",
            "A list of these outliers: \n",
            " [1] 4.323765 6.887585 5.460714 3.840561 3.567693 5.443659 7.882415 5.449344\n",
            " [9] 4.323765 5.108259 5.631256 3.925832 5.449344 5.199215 5.381127 5.904124\n",
            "[17] 4.522731 4.522731 4.522731 4.522731 4.323765 7.916524\n"
          ]
        }
      ]
    },
    {
      "cell_type": "code",
      "source": [
        "# Standardize saturatedfat\n",
        "%%R\n",
        "\n",
        "nutritionDF$scaled_saturatedfat <- scale(x = nutritionDF$saturatedfat)\n",
        "\n",
        "# Determine the three sigma rule for the scaled_education attribute\n",
        "three_sigma_rule <- (nutritionDF$scaled_saturatedfat < -3 |\n",
        "                     nutritionDF$scaled_saturatedfat > 3)\n",
        "\n",
        "# Count the outliers\n",
        "cat(\"Total outliers:\", sum(three_sigma_rule))\n",
        "\n",
        "# Display the outliers\n",
        "cat(\"\\n\\nA list of these outliers: \\n\")\n",
        "nutritionDF$scaled_saturatedfat[which(three_sigma_rule)]"
      ],
      "metadata": {
        "colab": {
          "base_uri": "https://localhost:8080/"
        },
        "id": "Y_537Vq25zbD",
        "outputId": "4cb5e202-d32a-4aac-e216-de951ed9ce91"
      },
      "execution_count": 124,
      "outputs": [
        {
          "output_type": "stream",
          "name": "stdout",
          "text": [
            "Total outliers: 20\n",
            "\n",
            "A list of these outliers: \n",
            " [1]  4.059096 10.788208  4.468613  4.803673  5.771622  4.077710  3.184218\n",
            " [8]  8.191497  6.264904  3.500663 10.639293  8.014660  4.729215  3.928795\n",
            "[15]  4.943281  4.943281  7.111860  3.025996  3.277290  4.403463\n"
          ]
        }
      ]
    },
    {
      "cell_type": "code",
      "source": [
        "# Standardize cholesterol\n",
        "%%R\n",
        "\n",
        "nutritionDF$scaled_cholesterol <- scale(x = nutritionDF$cholesterol)\n",
        "\n",
        "# Determine the three sigma rule for the scaled_education attribute\n",
        "three_sigma_rule <- (nutritionDF$scaled_cholesterol < -3 |\n",
        "                     nutritionDF$scaled_cholesterol > 3)\n",
        "\n",
        "# Count the outliers\n",
        "cat(\"Total outliers:\", sum(three_sigma_rule))\n",
        "\n",
        "# Display the outliers\n",
        "cat(\"\\n\\nA list of these outliers: \\n\")\n",
        "nutritionDF$scaled_cholesterol[which(three_sigma_rule)]"
      ],
      "metadata": {
        "colab": {
          "base_uri": "https://localhost:8080/"
        },
        "id": "KYVSLU1f6h9U",
        "outputId": "8ba2084c-8068-443d-c2d2-a9438d82efd8"
      },
      "execution_count": 125,
      "outputs": [
        {
          "output_type": "stream",
          "name": "stdout",
          "text": [
            "Total outliers: 17\n",
            "\n",
            "A list of these outliers: \n",
            " [1]  3.146420  4.355150  8.148063  5.063716 16.842585  8.898309  4.471855\n",
            " [8]  4.330142  4.713601  9.590203  4.530208  5.188757  6.872644  4.805298\n",
            "[15]  3.696601  5.030372  5.588889\n"
          ]
        }
      ]
    },
    {
      "cell_type": "markdown",
      "source": [
        ""
      ],
      "metadata": {
        "id": "pUYT-xtynWvc"
      }
    }
  ]
}