{
 "cells": [
  {
   "cell_type": "code",
   "execution_count": 1,
   "metadata": {},
   "outputs": [],
   "source": [
    "import numpy as np\n",
    "import pandas as pd\n",
    "\n",
    "from sklearn import set_config\n",
    "from sklearn.preprocessing import OneHotEncoder\n",
    "from sklearn.preprocessing import StandardScaler\n",
    "from sklearn.impute import SimpleImputer\n",
    "from sklearn.compose import ColumnTransformer\n",
    "from sklearn.pipeline import Pipeline, make_pipeline\n",
    "\n",
    "from sklearn.ensemble import RandomForestRegressor\n",
    "\n",
    "from sklearn.model_selection import GridSearchCV\n",
    "\n",
    "from tabpy.tabpy_tools.client import Client"
   ]
  },
  {
   "cell_type": "code",
   "execution_count": 2,
   "metadata": {},
   "outputs": [],
   "source": [
    "#Model selection function\n",
    "def regressor_selection(X,y, metric = 'r2'):   \n",
    "    \n",
    "    pipe = Pipeline([('regressor' , RandomForestRegressor())])    \n",
    "    param = [{'regressor' : [RandomForestRegressor()], 'regressor__n_estimators' : [100,200,500]}]\n",
    "            \n",
    "   \n",
    "    clf = GridSearchCV(pipe, param_grid = param, \n",
    "                       cv = 5, n_jobs=-1,scoring = metric)    \n",
    "    best_clf = clf.fit(X, y)\n",
    "    \n",
    "    return(best_clf.best_params_['regressor'])\n"
   ]
  },
  {
   "cell_type": "code",
   "execution_count": 3,
   "metadata": {},
   "outputs": [],
   "source": [
    "#Reading Data\n",
    "url=  'Restaurant_Profitability_Training_Data.csv'\n",
    "df = pd.read_csv(url)\n",
    "\n",
    "Target = 'Profit'\n",
    "categorical_features = ['Area', 'Age', 'Type','Price Range','Capacity','Number of Menu Items']\n",
    "numerical_feature = []\n",
    "target = 'Profit'\n",
    "\n",
    "label=df[target]\n",
    "data= df[categorical_features+numerical_feature]\n"
   ]
  },
  {
   "cell_type": "code",
   "execution_count": 4,
   "metadata": {
    "scrolled": true
   },
   "outputs": [
    {
     "data": {
      "text/plain": [
       "ColumnTransformer(transformers=[('numerical',\n",
       "                                 Pipeline(steps=[('imputer',\n",
       "                                                  SimpleImputer(strategy='median')),\n",
       "                                                 ('scaler', StandardScaler())]),\n",
       "                                 []),\n",
       "                                ('categorical', OneHotEncoder(),\n",
       "                                 ['Area', 'Age', 'Type', 'Price Range',\n",
       "                                  'Capacity', 'Number of Menu Items'])])"
      ]
     },
     "execution_count": 4,
     "metadata": {},
     "output_type": "execute_result"
    }
   ],
   "source": [
    "#Data Preprocessing\n",
    "numeric_transformer = Pipeline(steps=[('imputer', SimpleImputer(strategy='median'))\n",
    "                                      ,('scaler', StandardScaler())])\n",
    "categorical_transformer = OneHotEncoder(categories='auto')\n",
    "\n",
    "encoder = ColumnTransformer(\n",
    "    transformers=[\n",
    "        ('numerical', numeric_transformer, numerical_feature),\n",
    "        ('categorical', categorical_transformer, categorical_features)])\n",
    "\n",
    "encoder.fit(data)"
   ]
  },
  {
   "cell_type": "code",
   "execution_count": 5,
   "metadata": {},
   "outputs": [],
   "source": [
    "import pickle\n",
    "# Model Building and Selection\n",
    "\n",
    "#clf = regressor_selection(encoder.transform(data),label, metric = 'r2')\n",
    "#model = clf.fit(encoder.transform(data),label)    \n",
    "\n",
    "# save the model to disk\n",
    "#filename = 'restaurants_finalized_model1.sav'\n",
    "#pickle.dump(model, open(filename, 'wb'))\n"
   ]
  },
  {
   "cell_type": "code",
   "execution_count": 11,
   "metadata": {},
   "outputs": [
    {
     "data": {
      "text/html": [
       "<style>#sk-10308101-4b9d-4141-b928-b44198b5863f {color: black;background-color: white;}#sk-10308101-4b9d-4141-b928-b44198b5863f pre{padding: 0;}#sk-10308101-4b9d-4141-b928-b44198b5863f div.sk-toggleable {background-color: white;}#sk-10308101-4b9d-4141-b928-b44198b5863f label.sk-toggleable__label {cursor: pointer;display: block;width: 100%;margin-bottom: 0;padding: 0.2em 0.3em;box-sizing: border-box;text-align: center;}#sk-10308101-4b9d-4141-b928-b44198b5863f div.sk-toggleable__content {max-height: 0;max-width: 0;overflow: hidden;text-align: left;background-color: #f0f8ff;}#sk-10308101-4b9d-4141-b928-b44198b5863f div.sk-toggleable__content pre {margin: 0.2em;color: black;border-radius: 0.25em;background-color: #f0f8ff;}#sk-10308101-4b9d-4141-b928-b44198b5863f input.sk-toggleable__control:checked~div.sk-toggleable__content {max-height: 200px;max-width: 100%;overflow: auto;}#sk-10308101-4b9d-4141-b928-b44198b5863f div.sk-estimator input.sk-toggleable__control:checked~label.sk-toggleable__label {background-color: #d4ebff;}#sk-10308101-4b9d-4141-b928-b44198b5863f div.sk-label input.sk-toggleable__control:checked~label.sk-toggleable__label {background-color: #d4ebff;}#sk-10308101-4b9d-4141-b928-b44198b5863f input.sk-hidden--visually {border: 0;clip: rect(1px 1px 1px 1px);clip: rect(1px, 1px, 1px, 1px);height: 1px;margin: -1px;overflow: hidden;padding: 0;position: absolute;width: 1px;}#sk-10308101-4b9d-4141-b928-b44198b5863f div.sk-estimator {font-family: monospace;background-color: #f0f8ff;margin: 0.25em 0.25em;border: 1px dotted black;border-radius: 0.25em;box-sizing: border-box;}#sk-10308101-4b9d-4141-b928-b44198b5863f div.sk-estimator:hover {background-color: #d4ebff;}#sk-10308101-4b9d-4141-b928-b44198b5863f div.sk-parallel-item::after {content: \"\";width: 100%;border-bottom: 1px solid gray;flex-grow: 1;}#sk-10308101-4b9d-4141-b928-b44198b5863f div.sk-label:hover label.sk-toggleable__label {background-color: #d4ebff;}#sk-10308101-4b9d-4141-b928-b44198b5863f div.sk-serial::before {content: \"\";position: absolute;border-left: 1px solid gray;box-sizing: border-box;top: 2em;bottom: 0;left: 50%;}#sk-10308101-4b9d-4141-b928-b44198b5863f div.sk-serial {display: flex;flex-direction: column;align-items: center;background-color: white;}#sk-10308101-4b9d-4141-b928-b44198b5863f div.sk-item {z-index: 1;}#sk-10308101-4b9d-4141-b928-b44198b5863f div.sk-parallel {display: flex;align-items: stretch;justify-content: center;background-color: white;}#sk-10308101-4b9d-4141-b928-b44198b5863f div.sk-parallel-item {display: flex;flex-direction: column;position: relative;background-color: white;}#sk-10308101-4b9d-4141-b928-b44198b5863f div.sk-parallel-item:first-child::after {align-self: flex-end;width: 50%;}#sk-10308101-4b9d-4141-b928-b44198b5863f div.sk-parallel-item:last-child::after {align-self: flex-start;width: 50%;}#sk-10308101-4b9d-4141-b928-b44198b5863f div.sk-parallel-item:only-child::after {width: 0;}#sk-10308101-4b9d-4141-b928-b44198b5863f div.sk-dashed-wrapped {border: 1px dashed gray;margin: 0.2em;box-sizing: border-box;padding-bottom: 0.1em;background-color: white;position: relative;}#sk-10308101-4b9d-4141-b928-b44198b5863f div.sk-label label {font-family: monospace;font-weight: bold;background-color: white;display: inline-block;line-height: 1.2em;}#sk-10308101-4b9d-4141-b928-b44198b5863f div.sk-label-container {position: relative;z-index: 2;text-align: center;}#sk-10308101-4b9d-4141-b928-b44198b5863f div.sk-container {display: inline-block;position: relative;}</style><div id=\"sk-10308101-4b9d-4141-b928-b44198b5863f\" class\"sk-top-container\"><div class=\"sk-container\"><div class=\"sk-item sk-dashed-wrapped\"><div class=\"sk-label-container\"><div class=\"sk-label sk-toggleable\"><input class=\"sk-toggleable__control sk-hidden--visually\" id=\"3ac06ee4-2312-4e03-a0cd-047987cb31dd\" type=\"checkbox\" ><label class=\"sk-toggleable__label\" for=\"3ac06ee4-2312-4e03-a0cd-047987cb31dd\">Pipeline</label><div class=\"sk-toggleable__content\"><pre>Pipeline(steps=[('columntransformer',\n",
       "                 ColumnTransformer(transformers=[('numerical',\n",
       "                                                  Pipeline(steps=[('imputer',\n",
       "                                                                   SimpleImputer(strategy='median')),\n",
       "                                                                  ('scaler',\n",
       "                                                                   StandardScaler())]),\n",
       "                                                  []),\n",
       "                                                 ('categorical',\n",
       "                                                  OneHotEncoder(),\n",
       "                                                  ['Area', 'Age', 'Type',\n",
       "                                                   'Price Range', 'Capacity',\n",
       "                                                   'Number of Menu Items'])])),\n",
       "                ('randomforestregressor',\n",
       "                 RandomForestRegressor(n_estimators=500))])</pre></div></div></div><div class=\"sk-serial\"><div class=\"sk-item sk-dashed-wrapped\"><div class=\"sk-label-container\"><div class=\"sk-label sk-toggleable\"><input class=\"sk-toggleable__control sk-hidden--visually\" id=\"da004adc-cc0e-4353-8cbb-297a6ade8939\" type=\"checkbox\" ><label class=\"sk-toggleable__label\" for=\"da004adc-cc0e-4353-8cbb-297a6ade8939\">columntransformer: ColumnTransformer</label><div class=\"sk-toggleable__content\"><pre>ColumnTransformer(transformers=[('numerical',\n",
       "                                 Pipeline(steps=[('imputer',\n",
       "                                                  SimpleImputer(strategy='median')),\n",
       "                                                 ('scaler', StandardScaler())]),\n",
       "                                 []),\n",
       "                                ('categorical', OneHotEncoder(),\n",
       "                                 ['Area', 'Age', 'Type', 'Price Range',\n",
       "                                  'Capacity', 'Number of Menu Items'])])</pre></div></div></div><div class=\"sk-parallel\"><div class=\"sk-parallel-item\"><div class=\"sk-item\"><div class=\"sk-label-container\"><div class=\"sk-label sk-toggleable\"><input class=\"sk-toggleable__control sk-hidden--visually\" id=\"4873255e-f2b0-4e23-9861-15522869186b\" type=\"checkbox\" ><label class=\"sk-toggleable__label\" for=\"4873255e-f2b0-4e23-9861-15522869186b\">numerical</label><div class=\"sk-toggleable__content\"><pre>[]</pre></div></div></div><div class=\"sk-serial\"><div class=\"sk-item\"><div class=\"sk-serial\"><div class=\"sk-item\"><div class=\"sk-estimator sk-toggleable\"><input class=\"sk-toggleable__control sk-hidden--visually\" id=\"d5c1ea76-9cbd-4392-aa6b-d242d6a58eb5\" type=\"checkbox\" ><label class=\"sk-toggleable__label\" for=\"d5c1ea76-9cbd-4392-aa6b-d242d6a58eb5\">SimpleImputer</label><div class=\"sk-toggleable__content\"><pre>SimpleImputer(strategy='median')</pre></div></div></div><div class=\"sk-item\"><div class=\"sk-estimator sk-toggleable\"><input class=\"sk-toggleable__control sk-hidden--visually\" id=\"7b478d23-38cf-4f21-9cec-c504e5ffd07b\" type=\"checkbox\" ><label class=\"sk-toggleable__label\" for=\"7b478d23-38cf-4f21-9cec-c504e5ffd07b\">StandardScaler</label><div class=\"sk-toggleable__content\"><pre>StandardScaler()</pre></div></div></div></div></div></div></div></div><div class=\"sk-parallel-item\"><div class=\"sk-item\"><div class=\"sk-label-container\"><div class=\"sk-label sk-toggleable\"><input class=\"sk-toggleable__control sk-hidden--visually\" id=\"d0f941a5-ef0d-4622-b906-e47f59851a47\" type=\"checkbox\" ><label class=\"sk-toggleable__label\" for=\"d0f941a5-ef0d-4622-b906-e47f59851a47\">categorical</label><div class=\"sk-toggleable__content\"><pre>['Area', 'Age', 'Type', 'Price Range', 'Capacity', 'Number of Menu Items']</pre></div></div></div><div class=\"sk-serial\"><div class=\"sk-item\"><div class=\"sk-estimator sk-toggleable\"><input class=\"sk-toggleable__control sk-hidden--visually\" id=\"508f5e55-f53f-425a-b132-9453710f1e41\" type=\"checkbox\" ><label class=\"sk-toggleable__label\" for=\"508f5e55-f53f-425a-b132-9453710f1e41\">OneHotEncoder</label><div class=\"sk-toggleable__content\"><pre>OneHotEncoder()</pre></div></div></div></div></div></div></div></div><div class=\"sk-item\"><div class=\"sk-estimator sk-toggleable\"><input class=\"sk-toggleable__control sk-hidden--visually\" id=\"b0579070-2ef4-451b-8e51-c82d252f7168\" type=\"checkbox\" ><label class=\"sk-toggleable__label\" for=\"b0579070-2ef4-451b-8e51-c82d252f7168\">RandomForestRegressor</label><div class=\"sk-toggleable__content\"><pre>RandomForestRegressor(n_estimators=500)</pre></div></div></div></div></div></div></div>"
      ],
      "text/plain": [
       "Pipeline(steps=[('columntransformer',\n",
       "                 ColumnTransformer(transformers=[('numerical',\n",
       "                                                  Pipeline(steps=[('imputer',\n",
       "                                                                   SimpleImputer(strategy='median')),\n",
       "                                                                  ('scaler',\n",
       "                                                                   StandardScaler())]),\n",
       "                                                  []),\n",
       "                                                 ('categorical',\n",
       "                                                  OneHotEncoder(),\n",
       "                                                  ['Area', 'Age', 'Type',\n",
       "                                                   'Price Range', 'Capacity',\n",
       "                                                   'Number of Menu Items'])])),\n",
       "                ('randomforestregressor',\n",
       "                 RandomForestRegressor(n_estimators=500))])"
      ]
     },
     "execution_count": 11,
     "metadata": {},
     "output_type": "execute_result"
    }
   ],
   "source": [
    "import joblib\n",
    "# Some time later...\n",
    "# load the model from disk\n",
    "\n",
    "filename = 'restaurants_finalized_model1.sav'\n",
    "model = joblib.load(filename)\n",
    "\n",
    "\n",
    "#Display the process\n",
    "pipe = make_pipeline(encoder, model)\n",
    "set_config(display=\"diagram\")\n",
    "pipe "
   ]
  },
  {
   "cell_type": "code",
   "execution_count": 12,
   "metadata": {},
   "outputs": [],
   "source": [
    "#Wrapper function for prediction\n",
    "def Profitability_Prediction(Areas, Ages, Types, Price_Ranges, Capacities, Items):    \n",
    "    input_data = np.column_stack([Areas, Ages, Types, Price_Ranges, Capacities, Items])\n",
    "    X = pd.DataFrame(input_data,columns=['Area', 'Age', 'Type','Price Range','Capacity','Number of Menu Items'])\n",
    "    result = model.predict(encoder.transform(X))\n",
    "    return result.tolist()\n"
   ]
  },
  {
   "cell_type": "code",
   "execution_count": 14,
   "metadata": {},
   "outputs": [
    {
     "data": {
      "text/plain": [
       "[43090.2724, 135908.84828571428]"
      ]
     },
     "execution_count": 14,
     "metadata": {},
     "output_type": "execute_result"
    }
   ],
   "source": [
    "#Test the prediction\n",
    "Areas = ['Downtown','Suburbs']\n",
    "Ages = ['Developed','Well-Known'] \n",
    "Types = ['Cafeteria','Full Service Restaurant']\n",
    "Price_Ranges= ['$$','$$$']\n",
    "Capacities = ['90-100','30-50'] \n",
    "Items = ['Salad & Sandwich only','10-15']\n",
    "\n",
    "Profitability_Prediction(Areas, Ages, Types, Price_Ranges, Capacities, Items)"
   ]
  },
  {
   "cell_type": "code",
   "execution_count": 15,
   "metadata": {},
   "outputs": [],
   "source": [
    "#Model deployment\n",
    "client = Client('http://localhost:9004/')\n",
    "client.deploy('Restaurant_Profitability',\n",
    "              Profitability_Prediction,\n",
    "              'Returns prediction of profitability for restaurant(s).'\n",
    "              , override = True)\n"
   ]
  },
  {
   "cell_type": "code",
   "execution_count": null,
   "metadata": {},
   "outputs": [],
   "source": []
  }
 ],
 "metadata": {
  "kernelspec": {
   "display_name": "Python 3 (ipykernel)",
   "language": "python",
   "name": "python3"
  },
  "language_info": {
   "codemirror_mode": {
    "name": "ipython",
    "version": 3
   },
   "file_extension": ".py",
   "mimetype": "text/x-python",
   "name": "python",
   "nbconvert_exporter": "python",
   "pygments_lexer": "ipython3",
   "version": "3.9.7"
  }
 },
 "nbformat": 4,
 "nbformat_minor": 4
}
